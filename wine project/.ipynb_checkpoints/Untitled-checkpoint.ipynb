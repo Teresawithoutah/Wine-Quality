{
 "cells": [
  {
   "cell_type": "code",
   "execution_count": 7,
   "metadata": {},
   "outputs": [],
   "source": [
    "import numpy as np\n",
    "import pandas as pd\n",
    "import matplotlib as plt\n",
    "import seaborn as sns\n",
    "#"
   ]
  },
  {
   "cell_type": "code",
   "execution_count": 8,
   "metadata": {},
   "outputs": [],
   "source": [
    "red = pd.read_csv('winequality-red.csv',sep=\";\")\n"
   ]
  },
  {
   "cell_type": "code",
   "execution_count": 9,
   "metadata": {},
   "outputs": [
    {
     "name": "stdout",
     "output_type": "stream",
     "text": [
      "Rows, columns: (1599, 12)\n"
     ]
    },
    {
     "data": {
      "text/html": [
       "<div>\n",
       "<style scoped>\n",
       "    .dataframe tbody tr th:only-of-type {\n",
       "        vertical-align: middle;\n",
       "    }\n",
       "\n",
       "    .dataframe tbody tr th {\n",
       "        vertical-align: top;\n",
       "    }\n",
       "\n",
       "    .dataframe thead th {\n",
       "        text-align: right;\n",
       "    }\n",
       "</style>\n",
       "<table border=\"1\" class=\"dataframe\">\n",
       "  <thead>\n",
       "    <tr style=\"text-align: right;\">\n",
       "      <th></th>\n",
       "      <th>fixed acidity</th>\n",
       "      <th>volatile acidity</th>\n",
       "      <th>citric acid</th>\n",
       "      <th>residual sugar</th>\n",
       "      <th>chlorides</th>\n",
       "      <th>free sulfur dioxide</th>\n",
       "      <th>total sulfur dioxide</th>\n",
       "      <th>density</th>\n",
       "      <th>pH</th>\n",
       "      <th>sulphates</th>\n",
       "      <th>alcohol</th>\n",
       "      <th>quality</th>\n",
       "    </tr>\n",
       "  </thead>\n",
       "  <tbody>\n",
       "    <tr>\n",
       "      <th>0</th>\n",
       "      <td>7.4</td>\n",
       "      <td>0.70</td>\n",
       "      <td>0.00</td>\n",
       "      <td>1.9</td>\n",
       "      <td>0.076</td>\n",
       "      <td>11.0</td>\n",
       "      <td>34.0</td>\n",
       "      <td>0.9978</td>\n",
       "      <td>3.51</td>\n",
       "      <td>0.56</td>\n",
       "      <td>9.4</td>\n",
       "      <td>5</td>\n",
       "    </tr>\n",
       "    <tr>\n",
       "      <th>1</th>\n",
       "      <td>7.8</td>\n",
       "      <td>0.88</td>\n",
       "      <td>0.00</td>\n",
       "      <td>2.6</td>\n",
       "      <td>0.098</td>\n",
       "      <td>25.0</td>\n",
       "      <td>67.0</td>\n",
       "      <td>0.9968</td>\n",
       "      <td>3.20</td>\n",
       "      <td>0.68</td>\n",
       "      <td>9.8</td>\n",
       "      <td>5</td>\n",
       "    </tr>\n",
       "    <tr>\n",
       "      <th>2</th>\n",
       "      <td>7.8</td>\n",
       "      <td>0.76</td>\n",
       "      <td>0.04</td>\n",
       "      <td>2.3</td>\n",
       "      <td>0.092</td>\n",
       "      <td>15.0</td>\n",
       "      <td>54.0</td>\n",
       "      <td>0.9970</td>\n",
       "      <td>3.26</td>\n",
       "      <td>0.65</td>\n",
       "      <td>9.8</td>\n",
       "      <td>5</td>\n",
       "    </tr>\n",
       "    <tr>\n",
       "      <th>3</th>\n",
       "      <td>11.2</td>\n",
       "      <td>0.28</td>\n",
       "      <td>0.56</td>\n",
       "      <td>1.9</td>\n",
       "      <td>0.075</td>\n",
       "      <td>17.0</td>\n",
       "      <td>60.0</td>\n",
       "      <td>0.9980</td>\n",
       "      <td>3.16</td>\n",
       "      <td>0.58</td>\n",
       "      <td>9.8</td>\n",
       "      <td>6</td>\n",
       "    </tr>\n",
       "    <tr>\n",
       "      <th>4</th>\n",
       "      <td>7.4</td>\n",
       "      <td>0.70</td>\n",
       "      <td>0.00</td>\n",
       "      <td>1.9</td>\n",
       "      <td>0.076</td>\n",
       "      <td>11.0</td>\n",
       "      <td>34.0</td>\n",
       "      <td>0.9978</td>\n",
       "      <td>3.51</td>\n",
       "      <td>0.56</td>\n",
       "      <td>9.4</td>\n",
       "      <td>5</td>\n",
       "    </tr>\n",
       "  </tbody>\n",
       "</table>\n",
       "</div>"
      ],
      "text/plain": [
       "   fixed acidity  volatile acidity  citric acid  residual sugar  chlorides  \\\n",
       "0            7.4              0.70         0.00             1.9      0.076   \n",
       "1            7.8              0.88         0.00             2.6      0.098   \n",
       "2            7.8              0.76         0.04             2.3      0.092   \n",
       "3           11.2              0.28         0.56             1.9      0.075   \n",
       "4            7.4              0.70         0.00             1.9      0.076   \n",
       "\n",
       "   free sulfur dioxide  total sulfur dioxide  density    pH  sulphates  \\\n",
       "0                 11.0                  34.0   0.9978  3.51       0.56   \n",
       "1                 25.0                  67.0   0.9968  3.20       0.68   \n",
       "2                 15.0                  54.0   0.9970  3.26       0.65   \n",
       "3                 17.0                  60.0   0.9980  3.16       0.58   \n",
       "4                 11.0                  34.0   0.9978  3.51       0.56   \n",
       "\n",
       "   alcohol  quality  \n",
       "0      9.4        5  \n",
       "1      9.8        5  \n",
       "2      9.8        5  \n",
       "3      9.8        6  \n",
       "4      9.4        5  "
      ]
     },
     "execution_count": 9,
     "metadata": {},
     "output_type": "execute_result"
    }
   ],
   "source": [
    "# See the number of rows and columns\n",
    "print(\"Rows, columns: \" + str(red.shape))\n",
    "# See the first five rows of the dataset\n",
    "red.head()"
   ]
  },
  {
   "cell_type": "code",
   "execution_count": 10,
   "metadata": {},
   "outputs": [],
   "source": [
    "# Create Classification version of target variable\n",
    "red['goodquality'] = [1 if x >= 7 else 0 for x in red['quality']]\n",
    "# Separate feature variables and target variable\n",
    "X = red.drop(['quality','goodquality'], axis = 1)\n",
    "y = red['goodquality']"
   ]
  },
  {
   "cell_type": "code",
   "execution_count": 11,
   "metadata": {},
   "outputs": [
    {
     "data": {
      "text/plain": [
       "0    1382\n",
       "1     217\n",
       "Name: goodquality, dtype: int64"
      ]
     },
     "execution_count": 11,
     "metadata": {},
     "output_type": "execute_result"
    }
   ],
   "source": [
    "red['goodquality'].value_counts()"
   ]
  },
  {
   "cell_type": "code",
   "execution_count": 12,
   "metadata": {},
   "outputs": [],
   "source": [
    "# Normalize feature variables\n",
    "from sklearn.preprocessing import StandardScaler\n",
    "X_features = X\n",
    "X = StandardScaler().fit_transform(X)"
   ]
  },
  {
   "cell_type": "code",
   "execution_count": 13,
   "metadata": {},
   "outputs": [],
   "source": [
    "# Splitting the data\n",
    "from sklearn.model_selection import train_test_split\n",
    "X_train, X_test, y_train, y_test = train_test_split(X, y, test_size=.25, random_state=0)"
   ]
  },
  {
   "cell_type": "code",
   "execution_count": 40,
   "metadata": {},
   "outputs": [
    {
     "name": "stdout",
     "output_type": "stream",
     "text": [
      "              precision    recall  f1-score   support\n",
      "\n",
      "           0       0.96      0.92      0.94       355\n",
      "           1       0.53      0.73      0.62        45\n",
      "\n",
      "    accuracy                           0.90       400\n",
      "   macro avg       0.75      0.83      0.78       400\n",
      "weighted avg       0.92      0.90      0.90       400\n",
      "\n"
     ]
    }
   ],
   "source": [
    "from sklearn.metrics import classification_report\n",
    "from sklearn.tree import DecisionTreeClassifier, export_graphviz\n",
    "model1 = DecisionTreeClassifier(random_state=1)\n",
    "model1.fit(X_train, y_train)\n",
    "y_pred1 = model1.predict(X_test)\n",
    "print(classification_report(y_test, y_pred1))"
   ]
  },
  {
   "cell_type": "code",
   "execution_count": 41,
   "metadata": {},
   "outputs": [
    {
     "data": {
      "text/plain": [
       "'digraph Tree {\\nnode [shape=box] ;\\n0 [label=\"alcohol <= 1.058\\\\ngini = 0.246\\\\nsamples = 1199\\\\nvalue = [1027, 172]\"] ;\\n1 [label=\"volatile acidity <= -0.854\\\\ngini = 0.159\\\\nsamples = 1011\\\\nvalue = [923, 88]\"] ;\\n0 -> 1 [labeldistance=2.5, labelangle=45, headlabel=\"True\"] ;\\n2 [label=\"alcohol <= 0.025\\\\ngini = 0.413\\\\nsamples = 175\\\\nvalue = [124, 51]\"] ;\\n1 -> 2 ;\\n3 [label=\"fixed acidity <= 1.942\\\\ngini = 0.194\\\\nsamples = 92\\\\nvalue = [82, 10]\"] ;\\n2 -> 3 ;\\n4 [label=\"citric acid <= -0.647\\\\ngini = 0.115\\\\nsamples = 82\\\\nvalue = [77, 5]\"] ;\\n3 -> 4 ;\\n5 [label=\"gini = 0.0\\\\nsamples = 1\\\\nvalue = [0, 1]\"] ;\\n4 -> 5 ;\\n6 [label=\"sulphates <= 2.43\\\\ngini = 0.094\\\\nsamples = 81\\\\nvalue = [77, 4]\"] ;\\n4 -> 6 ;\\n7 [label=\"alcohol <= -0.256\\\\ngini = 0.051\\\\nsamples = 77\\\\nvalue = [75, 2]\"] ;\\n6 -> 7 ;\\n8 [label=\"gini = 0.0\\\\nsamples = 67\\\\nvalue = [67, 0]\"] ;\\n7 -> 8 ;\\n9 [label=\"residual sugar <= -0.666\\\\ngini = 0.32\\\\nsamples = 10\\\\nvalue = [8, 2]\"] ;\\n7 -> 9 ;\\n10 [label=\"gini = 0.0\\\\nsamples = 1\\\\nvalue = [0, 1]\"] ;\\n9 -> 10 ;\\n11 [label=\"sulphates <= 1.044\\\\ngini = 0.198\\\\nsamples = 9\\\\nvalue = [8, 1]\"] ;\\n9 -> 11 ;\\n12 [label=\"gini = 0.0\\\\nsamples = 6\\\\nvalue = [6, 0]\"] ;\\n11 -> 12 ;\\n13 [label=\"density <= 0.545\\\\ngini = 0.444\\\\nsamples = 3\\\\nvalue = [2, 1]\"] ;\\n11 -> 13 ;\\n14 [label=\"gini = 0.0\\\\nsamples = 1\\\\nvalue = [0, 1]\"] ;\\n13 -> 14 ;\\n15 [label=\"gini = 0.0\\\\nsamples = 2\\\\nvalue = [2, 0]\"] ;\\n13 -> 15 ;\\n16 [label=\"sulphates <= 3.375\\\\ngini = 0.5\\\\nsamples = 4\\\\nvalue = [2, 2]\"] ;\\n6 -> 16 ;\\n17 [label=\"gini = 0.0\\\\nsamples = 2\\\\nvalue = [0, 2]\"] ;\\n16 -> 17 ;\\n18 [label=\"gini = 0.0\\\\nsamples = 2\\\\nvalue = [2, 0]\"] ;\\n16 -> 18 ;\\n19 [label=\"residual sugar <= -0.134\\\\ngini = 0.5\\\\nsamples = 10\\\\nvalue = [5, 5]\"] ;\\n3 -> 19 ;\\n20 [label=\"density <= 1.95\\\\ngini = 0.278\\\\nsamples = 6\\\\nvalue = [1, 5]\"] ;\\n19 -> 20 ;\\n21 [label=\"gini = 0.0\\\\nsamples = 5\\\\nvalue = [0, 5]\"] ;\\n20 -> 21 ;\\n22 [label=\"gini = 0.0\\\\nsamples = 1\\\\nvalue = [1, 0]\"] ;\\n20 -> 22 ;\\n23 [label=\"gini = 0.0\\\\nsamples = 4\\\\nvalue = [4, 0]\"] ;\\n19 -> 23 ;\\n24 [label=\"pH <= -0.396\\\\ngini = 0.5\\\\nsamples = 83\\\\nvalue = [42, 41]\"] ;\\n2 -> 24 ;\\n25 [label=\"residual sugar <= 0.292\\\\ngini = 0.415\\\\nsamples = 34\\\\nvalue = [10, 24]\"] ;\\n24 -> 25 ;\\n26 [label=\"total sulfur dioxide <= -0.045\\\\ngini = 0.35\\\\nsamples = 31\\\\nvalue = [7, 24]\"] ;\\n25 -> 26 ;\\n27 [label=\"sulphates <= 2.342\\\\ngini = 0.26\\\\nsamples = 26\\\\nvalue = [4, 22]\"] ;\\n26 -> 27 ;\\n28 [label=\"free sulfur dioxide <= 0.825\\\\ngini = 0.211\\\\nsamples = 25\\\\nvalue = [3, 22]\"] ;\\n27 -> 28 ;\\n29 [label=\"total sulfur dioxide <= -1.033\\\\ngini = 0.153\\\\nsamples = 24\\\\nvalue = [2, 22]\"] ;\\n28 -> 29 ;\\n30 [label=\"volatile acidity <= -1.189\\\\ngini = 0.408\\\\nsamples = 7\\\\nvalue = [2, 5]\"] ;\\n29 -> 30 ;\\n31 [label=\"gini = 0.0\\\\nsamples = 4\\\\nvalue = [0, 4]\"] ;\\n30 -> 31 ;\\n32 [label=\"sulphates <= -0.284\\\\ngini = 0.444\\\\nsamples = 3\\\\nvalue = [2, 1]\"] ;\\n30 -> 32 ;\\n33 [label=\"gini = 0.0\\\\nsamples = 1\\\\nvalue = [0, 1]\"] ;\\n32 -> 33 ;\\n34 [label=\"gini = 0.0\\\\nsamples = 2\\\\nvalue = [2, 0]\"] ;\\n32 -> 34 ;\\n35 [label=\"gini = 0.0\\\\nsamples = 17\\\\nvalue = [0, 17]\"] ;\\n29 -> 35 ;\\n36 [label=\"gini = 0.0\\\\nsamples = 1\\\\nvalue = [1, 0]\"] ;\\n28 -> 36 ;\\n37 [label=\"gini = 0.0\\\\nsamples = 1\\\\nvalue = [1, 0]\"] ;\\n27 -> 37 ;\\n38 [label=\"sulphates <= 0.867\\\\ngini = 0.48\\\\nsamples = 5\\\\nvalue = [3, 2]\"] ;\\n26 -> 38 ;\\n39 [label=\"gini = 0.0\\\\nsamples = 3\\\\nvalue = [3, 0]\"] ;\\n38 -> 39 ;\\n40 [label=\"gini = 0.0\\\\nsamples = 2\\\\nvalue = [0, 2]\"] ;\\n38 -> 40 ;\\n41 [label=\"gini = 0.0\\\\nsamples = 3\\\\nvalue = [3, 0]\"] ;\\n25 -> 41 ;\\n42 [label=\"sulphates <= 0.454\\\\ngini = 0.453\\\\nsamples = 49\\\\nvalue = [32, 17]\"] ;\\n24 -> 42 ;\\n43 [label=\"total sulfur dioxide <= -1.094\\\\ngini = 0.165\\\\nsamples = 22\\\\nvalue = [20, 2]\"] ;\\n42 -> 43 ;\\n44 [label=\"chlorides <= -0.318\\\\ngini = 0.48\\\\nsamples = 5\\\\nvalue = [3, 2]\"] ;\\n43 -> 44 ;\\n45 [label=\"gini = 0.0\\\\nsamples = 2\\\\nvalue = [0, 2]\"] ;\\n44 -> 45 ;\\n46 [label=\"gini = 0.0\\\\nsamples = 3\\\\nvalue = [3, 0]\"] ;\\n44 -> 46 ;\\n47 [label=\"gini = 0.0\\\\nsamples = 17\\\\nvalue = [17, 0]\"] ;\\n43 -> 47 ;\\n48 [label=\"pH <= 0.511\\\\ngini = 0.494\\\\nsamples = 27\\\\nvalue = [12, 15]\"] ;\\n42 -> 48 ;\\n49 [label=\"residual sugar <= 0.079\\\\ngini = 0.48\\\\nsamples = 20\\\\nvalue = [12, 8]\"] ;\\n48 -> 49 ;\\n50 [label=\"alcohol <= 0.213\\\\ngini = 0.375\\\\nsamples = 16\\\\nvalue = [12, 4]\"] ;\\n49 -> 50 ;\\n51 [label=\"pH <= 0.025\\\\ngini = 0.375\\\\nsamples = 4\\\\nvalue = [1, 3]\"] ;\\n50 -> 51 ;\\n52 [label=\"gini = 0.0\\\\nsamples = 3\\\\nvalue = [0, 3]\"] ;\\n51 -> 52 ;\\n53 [label=\"gini = 0.0\\\\nsamples = 1\\\\nvalue = [1, 0]\"] ;\\n51 -> 53 ;\\n54 [label=\"citric acid <= 0.2\\\\ngini = 0.153\\\\nsamples = 12\\\\nvalue = [11, 1]\"] ;\\n50 -> 54 ;\\n55 [label=\"gini = 0.0\\\\nsamples = 1\\\\nvalue = [0, 1]\"] ;\\n54 -> 55 ;\\n56 [label=\"gini = 0.0\\\\nsamples = 11\\\\nvalue = [11, 0]\"] ;\\n54 -> 56 ;\\n57 [label=\"gini = 0.0\\\\nsamples = 4\\\\nvalue = [0, 4]\"] ;\\n49 -> 57 ;\\n58 [label=\"gini = 0.0\\\\nsamples = 7\\\\nvalue = [0, 7]\"] ;\\n48 -> 58 ;\\n59 [label=\"alcohol <= -0.538\\\\ngini = 0.085\\\\nsamples = 836\\\\nvalue = [799, 37]\"] ;\\n1 -> 59 ;\\n60 [label=\"volatile acidity <= -0.798\\\\ngini = 0.019\\\\nsamples = 426\\\\nvalue = [422, 4]\"] ;\\n59 -> 60 ;\\n61 [label=\"chlorides <= -0.392\\\\ngini = 0.18\\\\nsamples = 10\\\\nvalue = [9, 1]\"] ;\\n60 -> 61 ;\\n62 [label=\"gini = 0.0\\\\nsamples = 1\\\\nvalue = [0, 1]\"] ;\\n61 -> 62 ;\\n63 [label=\"gini = 0.0\\\\nsamples = 9\\\\nvalue = [9, 0]\"] ;\\n61 -> 63 ;\\n64 [label=\"free sulfur dioxide <= -0.323\\\\ngini = 0.014\\\\nsamples = 416\\\\nvalue = [413, 3]\"] ;\\n60 -> 64 ;\\n65 [label=\"volatile acidity <= 0.305\\\\ngini = 0.036\\\\nsamples = 165\\\\nvalue = [162, 3]\"] ;\\n64 -> 65 ;\\n66 [label=\"volatile acidity <= 0.278\\\\ngini = 0.074\\\\nsamples = 78\\\\nvalue = [75, 3]\"] ;\\n65 -> 66 ;\\n67 [label=\"chlorides <= -0.063\\\\ngini = 0.052\\\\nsamples = 75\\\\nvalue = [73, 2]\"] ;\\n66 -> 67 ;\\n68 [label=\"gini = 0.0\\\\nsamples = 50\\\\nvalue = [50, 0]\"] ;\\n67 -> 68 ;\\n69 [label=\"chlorides <= 0.171\\\\ngini = 0.147\\\\nsamples = 25\\\\nvalue = [23, 2]\"] ;\\n67 -> 69 ;\\n70 [label=\"free sulfur dioxide <= -0.61\\\\ngini = 0.408\\\\nsamples = 7\\\\nvalue = [5, 2]\"] ;\\n69 -> 70 ;\\n71 [label=\"gini = 0.0\\\\nsamples = 5\\\\nvalue = [5, 0]\"] ;\\n70 -> 71 ;\\n72 [label=\"gini = 0.0\\\\nsamples = 2\\\\nvalue = [0, 2]\"] ;\\n70 -> 72 ;\\n73 [label=\"gini = 0.0\\\\nsamples = 18\\\\nvalue = [18, 0]\"] ;\\n69 -> 73 ;\\n74 [label=\"residual sugar <= -0.418\\\\ngini = 0.444\\\\nsamples = 3\\\\nvalue = [2, 1]\"] ;\\n66 -> 74 ;\\n75 [label=\"gini = 0.0\\\\nsamples = 2\\\\nvalue = [2, 0]\"] ;\\n74 -> 75 ;\\n76 [label=\"gini = 0.0\\\\nsamples = 1\\\\nvalue = [0, 1]\"] ;\\n74 -> 76 ;\\n77 [label=\"gini = 0.0\\\\nsamples = 87\\\\nvalue = [87, 0]\"] ;\\n65 -> 77 ;\\n78 [label=\"gini = 0.0\\\\nsamples = 251\\\\nvalue = [251, 0]\"] ;\\n64 -> 78 ;\\n79 [label=\"sulphates <= 0.158\\\\ngini = 0.148\\\\nsamples = 410\\\\nvalue = [377, 33]\"] ;\\n59 -> 79 ;\\n80 [label=\"residual sugar <= -0.879\\\\ngini = 0.084\\\\nsamples = 295\\\\nvalue = [282, 13]\"] ;\\n79 -> 80 ;\\n81 [label=\"gini = 0.0\\\\nsamples = 1\\\\nvalue = [0, 1]\"] ;\\n80 -> 81 ;\\n82 [label=\"chlorides <= -0.446\\\\ngini = 0.078\\\\nsamples = 294\\\\nvalue = [282, 12]\"] ;\\n80 -> 82 ;\\n83 [label=\"residual sugar <= 0.114\\\\ngini = 0.212\\\\nsamples = 58\\\\nvalue = [51, 7]\"] ;\\n82 -> 83 ;\\n84 [label=\"sulphates <= -0.078\\\\ngini = 0.107\\\\nsamples = 53\\\\nvalue = [50, 3]\"] ;\\n83 -> 84 ;\\n85 [label=\"gini = 0.0\\\\nsamples = 40\\\\nvalue = [40, 0]\"] ;\\n84 -> 85 ;\\n86 [label=\"citric acid <= -0.596\\\\ngini = 0.355\\\\nsamples = 13\\\\nvalue = [10, 3]\"] ;\\n84 -> 86 ;\\n87 [label=\"gini = 0.0\\\\nsamples = 7\\\\nvalue = [7, 0]\"] ;\\n86 -> 87 ;\\n88 [label=\"fixed acidity <= -0.011\\\\ngini = 0.5\\\\nsamples = 6\\\\nvalue = [3, 3]\"] ;\\n86 -> 88 ;\\n89 [label=\"gini = 0.0\\\\nsamples = 3\\\\nvalue = [0, 3]\"] ;\\n88 -> 89 ;\\n90 [label=\"gini = 0.0\\\\nsamples = 3\\\\nvalue = [3, 0]\"] ;\\n88 -> 90 ;\\n91 [label=\"fixed acidity <= 0.908\\\\ngini = 0.32\\\\nsamples = 5\\\\nvalue = [1, 4]\"] ;\\n83 -> 91 ;\\n92 [label=\"gini = 0.0\\\\nsamples = 4\\\\nvalue = [0, 4]\"] ;\\n91 -> 92 ;\\n93 [label=\"gini = 0.0\\\\nsamples = 1\\\\nvalue = [1, 0]\"] ;\\n91 -> 93 ;\\n94 [label=\"citric acid <= 1.972\\\\ngini = 0.041\\\\nsamples = 236\\\\nvalue = [231, 5]\"] ;\\n82 -> 94 ;\\n95 [label=\"citric acid <= -1.314\\\\ngini = 0.034\\\\nsamples = 233\\\\nvalue = [229, 4]\"] ;\\n94 -> 95 ;\\n96 [label=\"volatile acidity <= 0.375\\\\ngini = 0.157\\\\nsamples = 35\\\\nvalue = [32, 3]\"] ;\\n95 -> 96 ;\\n97 [label=\"chlorides <= -0.063\\\\ngini = 0.42\\\\nsamples = 10\\\\nvalue = [7, 3]\"] ;\\n96 -> 97 ;\\n98 [label=\"gini = 0.0\\\\nsamples = 6\\\\nvalue = [6, 0]\"] ;\\n97 -> 98 ;\\n99 [label=\"free sulfur dioxide <= 1.446\\\\ngini = 0.375\\\\nsamples = 4\\\\nvalue = [1, 3]\"] ;\\n97 -> 99 ;\\n100 [label=\"gini = 0.0\\\\nsamples = 3\\\\nvalue = [0, 3]\"] ;\\n99 -> 100 ;\\n101 [label=\"gini = 0.0\\\\nsamples = 1\\\\nvalue = [1, 0]\"] ;\\n99 -> 101 ;\\n102 [label=\"gini = 0.0\\\\nsamples = 25\\\\nvalue = [25, 0]\"] ;\\n96 -> 102 ;\\n103 [label=\"pH <= 1.321\\\\ngini = 0.01\\\\nsamples = 198\\\\nvalue = [197, 1]\"] ;\\n95 -> 103 ;\\n104 [label=\"gini = 0.0\\\\nsamples = 182\\\\nvalue = [182, 0]\"] ;\\n103 -> 104 ;\\n105 [label=\"pH <= 1.386\\\\ngini = 0.117\\\\nsamples = 16\\\\nvalue = [15, 1]\"] ;\\n103 -> 105 ;\\n106 [label=\"residual sugar <= -0.205\\\\ngini = 0.5\\\\nsamples = 2\\\\nvalue = [1, 1]\"] ;\\n105 -> 106 ;\\n107 [label=\"gini = 0.0\\\\nsamples = 1\\\\nvalue = [0, 1]\"] ;\\n106 -> 107 ;\\n108 [label=\"gini = 0.0\\\\nsamples = 1\\\\nvalue = [1, 0]\"] ;\\n106 -> 108 ;\\n109 [label=\"gini = 0.0\\\\nsamples = 14\\\\nvalue = [14, 0]\"] ;\\n105 -> 109 ;\\n110 [label=\"chlorides <= 0.139\\\\ngini = 0.444\\\\nsamples = 3\\\\nvalue = [2, 1]\"] ;\\n94 -> 110 ;\\n111 [label=\"gini = 0.0\\\\nsamples = 1\\\\nvalue = [0, 1]\"] ;\\n110 -> 111 ;\\n112 [label=\"gini = 0.0\\\\nsamples = 2\\\\nvalue = [2, 0]\"] ;\\n110 -> 112 ;\\n113 [label=\"volatile acidity <= -0.686\\\\ngini = 0.287\\\\nsamples = 115\\\\nvalue = [95, 20]\"] ;\\n79 -> 113 ;\\n114 [label=\"total sulfur dioxide <= 0.092\\\\ngini = 0.5\\\\nsamples = 12\\\\nvalue = [6, 6]\"] ;\\n113 -> 114 ;\\n115 [label=\"citric acid <= 1.022\\\\ngini = 0.375\\\\nsamples = 8\\\\nvalue = [2, 6]\"] ;\\n114 -> 115 ;\\n116 [label=\"gini = 0.0\\\\nsamples = 6\\\\nvalue = [0, 6]\"] ;\\n115 -> 116 ;\\n117 [label=\"gini = 0.0\\\\nsamples = 2\\\\nvalue = [2, 0]\"] ;\\n115 -> 117 ;\\n118 [label=\"gini = 0.0\\\\nsamples = 4\\\\nvalue = [4, 0]\"] ;\\n114 -> 118 ;\\n119 [label=\"citric acid <= 1.921\\\\ngini = 0.235\\\\nsamples = 103\\\\nvalue = [89, 14]\"] ;\\n113 -> 119 ;\\n120 [label=\"sulphates <= 0.217\\\\ngini = 0.211\\\\nsamples = 100\\\\nvalue = [88, 12]\"] ;\\n119 -> 120 ;\\n121 [label=\"free sulfur dioxide <= 0.203\\\\ngini = 0.5\\\\nsamples = 6\\\\nvalue = [3, 3]\"] ;\\n120 -> 121 ;\\n122 [label=\"residual sugar <= -0.169\\\\ngini = 0.375\\\\nsamples = 4\\\\nvalue = [1, 3]\"] ;\\n121 -> 122 ;\\n123 [label=\"gini = 0.0\\\\nsamples = 1\\\\nvalue = [1, 0]\"] ;\\n122 -> 123 ;\\n124 [label=\"gini = 0.0\\\\nsamples = 3\\\\nvalue = [0, 3]\"] ;\\n122 -> 124 ;\\n125 [label=\"gini = 0.0\\\\nsamples = 2\\\\nvalue = [2, 0]\"] ;\\n121 -> 125 ;\\n126 [label=\"residual sugar <= -0.702\\\\ngini = 0.173\\\\nsamples = 94\\\\nvalue = [85, 9]\"] ;\\n120 -> 126 ;\\n127 [label=\"citric acid <= 1.099\\\\ngini = 0.5\\\\nsamples = 4\\\\nvalue = [2, 2]\"] ;\\n126 -> 127 ;\\n128 [label=\"gini = 0.0\\\\nsamples = 2\\\\nvalue = [2, 0]\"] ;\\n127 -> 128 ;\\n129 [label=\"gini = 0.0\\\\nsamples = 2\\\\nvalue = [0, 2]\"] ;\\n127 -> 129 ;\\n130 [label=\"alcohol <= 0.964\\\\ngini = 0.143\\\\nsamples = 90\\\\nvalue = [83, 7]\"] ;\\n126 -> 130 ;\\n131 [label=\"free sulfur dioxide <= -1.183\\\\ngini = 0.111\\\\nsamples = 85\\\\nvalue = [80, 5]\"] ;\\n130 -> 131 ;\\n132 [label=\"chlorides <= -0.307\\\\ngini = 0.5\\\\nsamples = 2\\\\nvalue = [1, 1]\"] ;\\n131 -> 132 ;\\n133 [label=\"gini = 0.0\\\\nsamples = 1\\\\nvalue = [0, 1]\"] ;\\n132 -> 133 ;\\n134 [label=\"gini = 0.0\\\\nsamples = 1\\\\nvalue = [1, 0]\"] ;\\n132 -> 134 ;\\n135 [label=\"chlorides <= 0.054\\\\ngini = 0.092\\\\nsamples = 83\\\\nvalue = [79, 4]\"] ;\\n131 -> 135 ;\\n136 [label=\"pH <= -1.076\\\\ngini = 0.033\\\\nsamples = 59\\\\nvalue = [58, 1]\"] ;\\n135 -> 136 ;\\n137 [label=\"pH <= -1.173\\\\ngini = 0.198\\\\nsamples = 9\\\\nvalue = [8, 1]\"] ;\\n136 -> 137 ;\\n138 [label=\"gini = 0.0\\\\nsamples = 8\\\\nvalue = [8, 0]\"] ;\\n137 -> 138 ;\\n139 [label=\"gini = 0.0\\\\nsamples = 1\\\\nvalue = [0, 1]\"] ;\\n137 -> 139 ;\\n140 [label=\"gini = 0.0\\\\nsamples = 50\\\\nvalue = [50, 0]\"] ;\\n136 -> 140 ;\\n141 [label=\"chlorides <= 0.086\\\\ngini = 0.219\\\\nsamples = 24\\\\nvalue = [21, 3]\"] ;\\n135 -> 141 ;\\n142 [label=\"gini = 0.0\\\\nsamples = 2\\\\nvalue = [0, 2]\"] ;\\n141 -> 142 ;\\n143 [label=\"fixed acidity <= -0.988\\\\ngini = 0.087\\\\nsamples = 22\\\\nvalue = [21, 1]\"] ;\\n141 -> 143 ;\\n144 [label=\"gini = 0.0\\\\nsamples = 1\\\\nvalue = [0, 1]\"] ;\\n143 -> 144 ;\\n145 [label=\"gini = 0.0\\\\nsamples = 21\\\\nvalue = [21, 0]\"] ;\\n143 -> 145 ;\\n146 [label=\"fixed acidity <= 0.994\\\\ngini = 0.48\\\\nsamples = 5\\\\nvalue = [3, 2]\"] ;\\n130 -> 146 ;\\n147 [label=\"gini = 0.0\\\\nsamples = 2\\\\nvalue = [0, 2]\"] ;\\n146 -> 147 ;\\n148 [label=\"gini = 0.0\\\\nsamples = 3\\\\nvalue = [3, 0]\"] ;\\n146 -> 148 ;\\n149 [label=\"total sulfur dioxide <= -0.121\\\\ngini = 0.444\\\\nsamples = 3\\\\nvalue = [1, 2]\"] ;\\n119 -> 149 ;\\n150 [label=\"gini = 0.0\\\\nsamples = 2\\\\nvalue = [0, 2]\"] ;\\n149 -> 150 ;\\n151 [label=\"gini = 0.0\\\\nsamples = 1\\\\nvalue = [1, 0]\"] ;\\n149 -> 151 ;\\n152 [label=\"sulphates <= 0.158\\\\ngini = 0.494\\\\nsamples = 188\\\\nvalue = [104, 84]\"] ;\\n0 -> 152 [labeldistance=2.5, labelangle=-45, headlabel=\"False\"] ;\\n153 [label=\"pH <= -0.234\\\\ngini = 0.389\\\\nsamples = 102\\\\nvalue = [75, 27]\"] ;\\n152 -> 153 ;\\n154 [label=\"chlorides <= 0.458\\\\ngini = 0.499\\\\nsamples = 42\\\\nvalue = [22, 20]\"] ;\\n153 -> 154 ;\\n155 [label=\"residual sugar <= 0.54\\\\ngini = 0.484\\\\nsamples = 34\\\\nvalue = [14, 20]\"] ;\\n154 -> 155 ;\\n156 [label=\"chlorides <= 0.064\\\\ngini = 0.493\\\\nsamples = 25\\\\nvalue = [14, 11]\"] ;\\n155 -> 156 ;\\n157 [label=\"free sulfur dioxide <= 0.442\\\\ngini = 0.42\\\\nsamples = 20\\\\nvalue = [14, 6]\"] ;\\n156 -> 157 ;\\n158 [label=\"alcohol <= 1.152\\\\ngini = 0.245\\\\nsamples = 14\\\\nvalue = [12, 2]\"] ;\\n157 -> 158 ;\\n159 [label=\"gini = 0.0\\\\nsamples = 1\\\\nvalue = [0, 1]\"] ;\\n158 -> 159 ;\\n160 [label=\"density <= -1.641\\\\ngini = 0.142\\\\nsamples = 13\\\\nvalue = [12, 1]\"] ;\\n158 -> 160 ;\\n161 [label=\"chlorides <= -0.552\\\\ngini = 0.5\\\\nsamples = 2\\\\nvalue = [1, 1]\"] ;\\n160 -> 161 ;\\n162 [label=\"gini = 0.0\\\\nsamples = 1\\\\nvalue = [1, 0]\"] ;\\n161 -> 162 ;\\n163 [label=\"gini = 0.0\\\\nsamples = 1\\\\nvalue = [0, 1]\"] ;\\n161 -> 163 ;\\n164 [label=\"gini = 0.0\\\\nsamples = 11\\\\nvalue = [11, 0]\"] ;\\n160 -> 164 ;\\n165 [label=\"residual sugar <= -0.808\\\\ngini = 0.444\\\\nsamples = 6\\\\nvalue = [2, 4]\"] ;\\n157 -> 165 ;\\n166 [label=\"gini = 0.0\\\\nsamples = 2\\\\nvalue = [2, 0]\"] ;\\n165 -> 166 ;\\n167 [label=\"gini = 0.0\\\\nsamples = 4\\\\nvalue = [0, 4]\"] ;\\n165 -> 167 ;\\n168 [label=\"gini = 0.0\\\\nsamples = 5\\\\nvalue = [0, 5]\"] ;\\n156 -> 168 ;\\n169 [label=\"gini = 0.0\\\\nsamples = 9\\\\nvalue = [0, 9]\"] ;\\n155 -> 169 ;\\n170 [label=\"gini = 0.0\\\\nsamples = 8\\\\nvalue = [8, 0]\"] ;\\n154 -> 170 ;\\n171 [label=\"total sulfur dioxide <= -0.987\\\\ngini = 0.206\\\\nsamples = 60\\\\nvalue = [53, 7]\"] ;\\n153 -> 171 ;\\n172 [label=\"volatile acidity <= -0.826\\\\ngini = 0.5\\\\nsamples = 8\\\\nvalue = [4, 4]\"] ;\\n171 -> 172 ;\\n173 [label=\"gini = 0.0\\\\nsamples = 3\\\\nvalue = [0, 3]\"] ;\\n172 -> 173 ;\\n174 [label=\"pH <= 1.71\\\\ngini = 0.32\\\\nsamples = 5\\\\nvalue = [4, 1]\"] ;\\n172 -> 174 ;\\n175 [label=\"gini = 0.0\\\\nsamples = 4\\\\nvalue = [4, 0]\"] ;\\n174 -> 175 ;\\n176 [label=\"gini = 0.0\\\\nsamples = 1\\\\nvalue = [0, 1]\"] ;\\n174 -> 176 ;\\n177 [label=\"free sulfur dioxide <= 1.494\\\\ngini = 0.109\\\\nsamples = 52\\\\nvalue = [49, 3]\"] ;\\n171 -> 177 ;\\n178 [label=\"total sulfur dioxide <= 1.704\\\\ngini = 0.075\\\\nsamples = 51\\\\nvalue = [49, 2]\"] ;\\n177 -> 178 ;\\n179 [label=\"pH <= 2.811\\\\ngini = 0.04\\\\nsamples = 49\\\\nvalue = [48, 1]\"] ;\\n178 -> 179 ;\\n180 [label=\"gini = 0.0\\\\nsamples = 45\\\\nvalue = [45, 0]\"] ;\\n179 -> 180 ;\\n181 [label=\"chlorides <= -0.031\\\\ngini = 0.375\\\\nsamples = 4\\\\nvalue = [3, 1]\"] ;\\n179 -> 181 ;\\n182 [label=\"gini = 0.0\\\\nsamples = 3\\\\nvalue = [3, 0]\"] ;\\n181 -> 182 ;\\n183 [label=\"gini = 0.0\\\\nsamples = 1\\\\nvalue = [0, 1]\"] ;\\n181 -> 183 ;\\n184 [label=\"sulphates <= -0.284\\\\ngini = 0.5\\\\nsamples = 2\\\\nvalue = [1, 1]\"] ;\\n178 -> 184 ;\\n185 [label=\"gini = 0.0\\\\nsamples = 1\\\\nvalue = [1, 0]\"] ;\\n184 -> 185 ;\\n186 [label=\"gini = 0.0\\\\nsamples = 1\\\\nvalue = [0, 1]\"] ;\\n184 -> 186 ;\\n187 [label=\"gini = 0.0\\\\nsamples = 1\\\\nvalue = [0, 1]\"] ;\\n177 -> 187 ;\\n188 [label=\"free sulfur dioxide <= 0.251\\\\ngini = 0.447\\\\nsamples = 86\\\\nvalue = [29, 57]\"] ;\\n152 -> 188 ;\\n189 [label=\"free sulfur dioxide <= -0.801\\\\ngini = 0.335\\\\nsamples = 61\\\\nvalue = [13, 48]\"] ;\\n188 -> 189 ;\\n190 [label=\"volatile acidity <= -0.658\\\\ngini = 0.461\\\\nsamples = 25\\\\nvalue = [9, 16]\"] ;\\n189 -> 190 ;\\n191 [label=\"fixed acidity <= -0.327\\\\ngini = 0.153\\\\nsamples = 12\\\\nvalue = [1, 11]\"] ;\\n190 -> 191 ;\\n192 [label=\"gini = 0.0\\\\nsamples = 1\\\\nvalue = [1, 0]\"] ;\\n191 -> 192 ;\\n193 [label=\"gini = 0.0\\\\nsamples = 11\\\\nvalue = [0, 11]\"] ;\\n191 -> 193 ;\\n194 [label=\"sulphates <= 1.103\\\\ngini = 0.473\\\\nsamples = 13\\\\nvalue = [8, 5]\"] ;\\n190 -> 194 ;\\n195 [label=\"volatile acidity <= -0.155\\\\ngini = 0.469\\\\nsamples = 8\\\\nvalue = [3, 5]\"] ;\\n194 -> 195 ;\\n196 [label=\"total sulfur dioxide <= -0.987\\\\ngini = 0.375\\\\nsamples = 4\\\\nvalue = [3, 1]\"] ;\\n195 -> 196 ;\\n197 [label=\"gini = 0.0\\\\nsamples = 1\\\\nvalue = [0, 1]\"] ;\\n196 -> 197 ;\\n198 [label=\"gini = 0.0\\\\nsamples = 3\\\\nvalue = [3, 0]\"] ;\\n196 -> 198 ;\\n199 [label=\"gini = 0.0\\\\nsamples = 4\\\\nvalue = [0, 4]\"] ;\\n195 -> 199 ;\\n200 [label=\"gini = 0.0\\\\nsamples = 5\\\\nvalue = [5, 0]\"] ;\\n194 -> 200 ;\\n201 [label=\"sulphates <= 0.217\\\\ngini = 0.198\\\\nsamples = 36\\\\nvalue = [4, 32]\"] ;\\n189 -> 201 ;\\n202 [label=\"gini = 0.0\\\\nsamples = 2\\\\nvalue = [2, 0]\"] ;\\n201 -> 202 ;\\n203 [label=\"chlorides <= 1.435\\\\ngini = 0.111\\\\nsamples = 34\\\\nvalue = [2, 32]\"] ;\\n201 -> 203 ;\\n204 [label=\"volatile acidity <= -1.636\\\\ngini = 0.059\\\\nsamples = 33\\\\nvalue = [1, 32]\"] ;\\n203 -> 204 ;\\n205 [label=\"pH <= 0.511\\\\ngini = 0.375\\\\nsamples = 4\\\\nvalue = [1, 3]\"] ;\\n204 -> 205 ;\\n206 [label=\"gini = 0.0\\\\nsamples = 1\\\\nvalue = [1, 0]\"] ;\\n205 -> 206 ;\\n207 [label=\"gini = 0.0\\\\nsamples = 3\\\\nvalue = [0, 3]\"] ;\\n205 -> 207 ;\\n208 [label=\"gini = 0.0\\\\nsamples = 29\\\\nvalue = [0, 29]\"] ;\\n204 -> 208 ;\\n209 [label=\"gini = 0.0\\\\nsamples = 1\\\\nvalue = [1, 0]\"] ;\\n203 -> 209 ;\\n210 [label=\"residual sugar <= -0.169\\\\ngini = 0.461\\\\nsamples = 25\\\\nvalue = [16, 9]\"] ;\\n188 -> 210 ;\\n211 [label=\"density <= -3.141\\\\ngini = 0.26\\\\nsamples = 13\\\\nvalue = [11, 2]\"] ;\\n210 -> 211 ;\\n212 [label=\"gini = 0.0\\\\nsamples = 1\\\\nvalue = [0, 1]\"] ;\\n211 -> 212 ;\\n213 [label=\"pH <= 2.584\\\\ngini = 0.153\\\\nsamples = 12\\\\nvalue = [11, 1]\"] ;\\n211 -> 213 ;\\n214 [label=\"gini = 0.0\\\\nsamples = 11\\\\nvalue = [11, 0]\"] ;\\n213 -> 214 ;\\n215 [label=\"gini = 0.0\\\\nsamples = 1\\\\nvalue = [0, 1]\"] ;\\n213 -> 215 ;\\n216 [label=\"density <= -0.412\\\\ngini = 0.486\\\\nsamples = 12\\\\nvalue = [5, 7]\"] ;\\n210 -> 216 ;\\n217 [label=\"gini = 0.0\\\\nsamples = 5\\\\nvalue = [0, 5]\"] ;\\n216 -> 217 ;\\n218 [label=\"free sulfur dioxide <= 1.685\\\\ngini = 0.408\\\\nsamples = 7\\\\nvalue = [5, 2]\"] ;\\n216 -> 218 ;\\n219 [label=\"gini = 0.0\\\\nsamples = 5\\\\nvalue = [5, 0]\"] ;\\n218 -> 219 ;\\n220 [label=\"gini = 0.0\\\\nsamples = 2\\\\nvalue = [0, 2]\"] ;\\n218 -> 220 ;\\n}'"
      ]
     },
     "execution_count": 41,
     "metadata": {},
     "output_type": "execute_result"
    }
   ],
   "source": [
    "model1_dot = export_graphviz(model1,out_file=None,feature_names =[\"fixed acidity\",\"volatile acidity\",\n",
    "                                                              \"citric acid\",\"residual sugar\",\"chlorides\",\n",
    "                                                              \"free sulfur dioxide\",\"total sulfur dioxide\",\n",
    "                                                              \"density\",\"pH\",\"sulphates\",\"alcohol\"])\n",
    "model1_dot"
   ]
  },
  {
   "cell_type": "code",
   "execution_count": 42,
   "metadata": {},
   "outputs": [
    {
     "ename": "NameError",
     "evalue": "name 'graphviz' is not defined",
     "output_type": "error",
     "traceback": [
      "\u001b[0;31m---------------------------------------------------------------------------\u001b[0m",
      "\u001b[0;31mNameError\u001b[0m                                 Traceback (most recent call last)",
      "\u001b[0;32m<ipython-input-42-3fc89e9c85c2>\u001b[0m in \u001b[0;36m<module>\u001b[0;34m\u001b[0m\n\u001b[0;32m----> 1\u001b[0;31m \u001b[0mgraphviz\u001b[0m\u001b[0;34m.\u001b[0m\u001b[0mSource\u001b[0m\u001b[0;34m(\u001b[0m\u001b[0mmodel1_dot\u001b[0m\u001b[0;34m)\u001b[0m\u001b[0;34m\u001b[0m\u001b[0;34m\u001b[0m\u001b[0m\n\u001b[0m",
      "\u001b[0;31mNameError\u001b[0m: name 'graphviz' is not defined"
     ]
    }
   ],
   "source": [
    "graphviz.Source(model1_dot)"
   ]
  },
  {
   "cell_type": "code",
   "execution_count": 43,
   "metadata": {},
   "outputs": [
    {
     "data": {
      "text/plain": [
       "<AxesSubplot:>"
      ]
     },
     "execution_count": 43,
     "metadata": {},
     "output_type": "execute_result"
    },
    {
     "data": {
      "image/png": "[encoded data removed]",
      "text/plain": [
       "<Figure size 720x720 with 1 Axes>"
      ]
     },
     "metadata": {
      "needs_background": "light"
     },
     "output_type": "display_data"
    }
   ],
   "source": [
    "feat_importances = pd.Series(model1.feature_importances_, index=X_features.columns)\n",
    "feat_importances.nlargest(25).plot(kind='barh',figsize=(10,10))"
   ]
  },
  {
   "cell_type": "code",
   "execution_count": null,
   "metadata": {},
   "outputs": [],
   "source": []
  },
  {
   "cell_type": "code",
   "execution_count": null,
   "metadata": {},
   "outputs": [],
   "source": []
  }
 ],
 "metadata": {
  "kernelspec": {
   "display_name": "Python 3",
   "language": "python",
   "name": "python3"
  },
  "language_info": {
   "codemirror_mode": {
    "name": "ipython",
    "version": 3
   },
   "file_extension": ".py",
   "mimetype": "text/x-python",
   "name": "python",
   "nbconvert_exporter": "python",
   "pygments_lexer": "ipython3",
   "version": "3.8.5"
  }
 },
 "nbformat": 4,
 "nbformat_minor": 4
}
