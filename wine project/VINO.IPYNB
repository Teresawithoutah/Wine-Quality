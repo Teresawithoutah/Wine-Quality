{
 "cells": [
  {
   "cell_type": "code",
   "execution_count": 259,
   "metadata": {},
   "outputs": [],
   "source": [
    "import pandas as pd\n",
    "import numpy as np\n",
    "import matplotlib.pyplot as plt\n",
    "import seaborn as sns\n"
   ]
  },
  {
   "cell_type": "markdown",
   "metadata": {},
   "source": [
    "# Load and read data "
   ]
  },
  {
   "cell_type": "code",
   "execution_count": 260,
   "metadata": {},
   "outputs": [],
   "source": [
    "red = pd.read_csv('winequality-red.csv',sep=\";\")\n",
    "white = pd.read_csv('winequality-white.csv',sep=\";\")\n",
    "\n"
   ]
  },
  {
   "cell_type": "code",
   "execution_count": 261,
   "metadata": {},
   "outputs": [
    {
     "data": {
      "text/html": [
       "<div>\n",
       "<style scoped>\n",
       "    .dataframe tbody tr th:only-of-type {\n",
       "        vertical-align: middle;\n",
       "    }\n",
       "\n",
       "    .dataframe tbody tr th {\n",
       "        vertical-align: top;\n",
       "    }\n",
       "\n",
       "    .dataframe thead th {\n",
       "        text-align: right;\n",
       "    }\n",
       "</style>\n",
       "<table border=\"1\" class=\"dataframe\">\n",
       "  <thead>\n",
       "    <tr style=\"text-align: right;\">\n",
       "      <th></th>\n",
       "      <th>fixed acidity</th>\n",
       "      <th>volatile acidity</th>\n",
       "      <th>citric acid</th>\n",
       "      <th>residual sugar</th>\n",
       "      <th>chlorides</th>\n",
       "      <th>free sulfur dioxide</th>\n",
       "      <th>total sulfur dioxide</th>\n",
       "      <th>density</th>\n",
       "      <th>pH</th>\n",
       "      <th>sulphates</th>\n",
       "      <th>alcohol</th>\n",
       "      <th>quality</th>\n",
       "    </tr>\n",
       "  </thead>\n",
       "  <tbody>\n",
       "    <tr>\n",
       "      <th>0</th>\n",
       "      <td>7.0</td>\n",
       "      <td>0.27</td>\n",
       "      <td>0.36</td>\n",
       "      <td>20.7</td>\n",
       "      <td>0.045</td>\n",
       "      <td>45.0</td>\n",
       "      <td>170.0</td>\n",
       "      <td>1.0010</td>\n",
       "      <td>3.00</td>\n",
       "      <td>0.45</td>\n",
       "      <td>8.8</td>\n",
       "      <td>6</td>\n",
       "    </tr>\n",
       "    <tr>\n",
       "      <th>1</th>\n",
       "      <td>6.3</td>\n",
       "      <td>0.30</td>\n",
       "      <td>0.34</td>\n",
       "      <td>1.6</td>\n",
       "      <td>0.049</td>\n",
       "      <td>14.0</td>\n",
       "      <td>132.0</td>\n",
       "      <td>0.9940</td>\n",
       "      <td>3.30</td>\n",
       "      <td>0.49</td>\n",
       "      <td>9.5</td>\n",
       "      <td>6</td>\n",
       "    </tr>\n",
       "    <tr>\n",
       "      <th>2</th>\n",
       "      <td>8.1</td>\n",
       "      <td>0.28</td>\n",
       "      <td>0.40</td>\n",
       "      <td>6.9</td>\n",
       "      <td>0.050</td>\n",
       "      <td>30.0</td>\n",
       "      <td>97.0</td>\n",
       "      <td>0.9951</td>\n",
       "      <td>3.26</td>\n",
       "      <td>0.44</td>\n",
       "      <td>10.1</td>\n",
       "      <td>6</td>\n",
       "    </tr>\n",
       "    <tr>\n",
       "      <th>3</th>\n",
       "      <td>7.2</td>\n",
       "      <td>0.23</td>\n",
       "      <td>0.32</td>\n",
       "      <td>8.5</td>\n",
       "      <td>0.058</td>\n",
       "      <td>47.0</td>\n",
       "      <td>186.0</td>\n",
       "      <td>0.9956</td>\n",
       "      <td>3.19</td>\n",
       "      <td>0.40</td>\n",
       "      <td>9.9</td>\n",
       "      <td>6</td>\n",
       "    </tr>\n",
       "    <tr>\n",
       "      <th>4</th>\n",
       "      <td>7.2</td>\n",
       "      <td>0.23</td>\n",
       "      <td>0.32</td>\n",
       "      <td>8.5</td>\n",
       "      <td>0.058</td>\n",
       "      <td>47.0</td>\n",
       "      <td>186.0</td>\n",
       "      <td>0.9956</td>\n",
       "      <td>3.19</td>\n",
       "      <td>0.40</td>\n",
       "      <td>9.9</td>\n",
       "      <td>6</td>\n",
       "    </tr>\n",
       "  </tbody>\n",
       "</table>\n",
       "</div>"
      ],
      "text/plain": [
       "   fixed acidity  volatile acidity  citric acid  residual sugar  chlorides  \\\n",
       "0            7.0              0.27         0.36            20.7      0.045   \n",
       "1            6.3              0.30         0.34             1.6      0.049   \n",
       "2            8.1              0.28         0.40             6.9      0.050   \n",
       "3            7.2              0.23         0.32             8.5      0.058   \n",
       "4            7.2              0.23         0.32             8.5      0.058   \n",
       "\n",
       "   free sulfur dioxide  total sulfur dioxide  density    pH  sulphates  \\\n",
       "0                 45.0                 170.0   1.0010  3.00       0.45   \n",
       "1                 14.0                 132.0   0.9940  3.30       0.49   \n",
       "2                 30.0                  97.0   0.9951  3.26       0.44   \n",
       "3                 47.0                 186.0   0.9956  3.19       0.40   \n",
       "4                 47.0                 186.0   0.9956  3.19       0.40   \n",
       "\n",
       "   alcohol  quality  \n",
       "0      8.8        6  \n",
       "1      9.5        6  \n",
       "2     10.1        6  \n",
       "3      9.9        6  \n",
       "4      9.9        6  "
      ]
     },
     "execution_count": 261,
     "metadata": {},
     "output_type": "execute_result"
    }
   ],
   "source": [
    "white.head()"
   ]
  },
  {
   "cell_type": "code",
   "execution_count": 262,
   "metadata": {
    "scrolled": true
   },
   "outputs": [
    {
     "data": {
      "text/html": [
       "<div>\n",
       "<style scoped>\n",
       "    .dataframe tbody tr th:only-of-type {\n",
       "        vertical-align: middle;\n",
       "    }\n",
       "\n",
       "    .dataframe tbody tr th {\n",
       "        vertical-align: top;\n",
       "    }\n",
       "\n",
       "    .dataframe thead th {\n",
       "        text-align: right;\n",
       "    }\n",
       "</style>\n",
       "<table border=\"1\" class=\"dataframe\">\n",
       "  <thead>\n",
       "    <tr style=\"text-align: right;\">\n",
       "      <th></th>\n",
       "      <th>fixed acidity</th>\n",
       "      <th>volatile acidity</th>\n",
       "      <th>citric acid</th>\n",
       "      <th>residual sugar</th>\n",
       "      <th>chlorides</th>\n",
       "      <th>free sulfur dioxide</th>\n",
       "      <th>total sulfur dioxide</th>\n",
       "      <th>density</th>\n",
       "      <th>pH</th>\n",
       "      <th>sulphates</th>\n",
       "      <th>alcohol</th>\n",
       "      <th>quality</th>\n",
       "    </tr>\n",
       "  </thead>\n",
       "  <tbody>\n",
       "    <tr>\n",
       "      <th>0</th>\n",
       "      <td>7.4</td>\n",
       "      <td>0.700</td>\n",
       "      <td>0.00</td>\n",
       "      <td>1.9</td>\n",
       "      <td>0.076</td>\n",
       "      <td>11.0</td>\n",
       "      <td>34.0</td>\n",
       "      <td>0.99780</td>\n",
       "      <td>3.51</td>\n",
       "      <td>0.56</td>\n",
       "      <td>9.4</td>\n",
       "      <td>5</td>\n",
       "    </tr>\n",
       "    <tr>\n",
       "      <th>1</th>\n",
       "      <td>7.8</td>\n",
       "      <td>0.880</td>\n",
       "      <td>0.00</td>\n",
       "      <td>2.6</td>\n",
       "      <td>0.098</td>\n",
       "      <td>25.0</td>\n",
       "      <td>67.0</td>\n",
       "      <td>0.99680</td>\n",
       "      <td>3.20</td>\n",
       "      <td>0.68</td>\n",
       "      <td>9.8</td>\n",
       "      <td>5</td>\n",
       "    </tr>\n",
       "    <tr>\n",
       "      <th>2</th>\n",
       "      <td>7.8</td>\n",
       "      <td>0.760</td>\n",
       "      <td>0.04</td>\n",
       "      <td>2.3</td>\n",
       "      <td>0.092</td>\n",
       "      <td>15.0</td>\n",
       "      <td>54.0</td>\n",
       "      <td>0.99700</td>\n",
       "      <td>3.26</td>\n",
       "      <td>0.65</td>\n",
       "      <td>9.8</td>\n",
       "      <td>5</td>\n",
       "    </tr>\n",
       "    <tr>\n",
       "      <th>3</th>\n",
       "      <td>11.2</td>\n",
       "      <td>0.280</td>\n",
       "      <td>0.56</td>\n",
       "      <td>1.9</td>\n",
       "      <td>0.075</td>\n",
       "      <td>17.0</td>\n",
       "      <td>60.0</td>\n",
       "      <td>0.99800</td>\n",
       "      <td>3.16</td>\n",
       "      <td>0.58</td>\n",
       "      <td>9.8</td>\n",
       "      <td>6</td>\n",
       "    </tr>\n",
       "    <tr>\n",
       "      <th>4</th>\n",
       "      <td>7.4</td>\n",
       "      <td>0.700</td>\n",
       "      <td>0.00</td>\n",
       "      <td>1.9</td>\n",
       "      <td>0.076</td>\n",
       "      <td>11.0</td>\n",
       "      <td>34.0</td>\n",
       "      <td>0.99780</td>\n",
       "      <td>3.51</td>\n",
       "      <td>0.56</td>\n",
       "      <td>9.4</td>\n",
       "      <td>5</td>\n",
       "    </tr>\n",
       "    <tr>\n",
       "      <th>...</th>\n",
       "      <td>...</td>\n",
       "      <td>...</td>\n",
       "      <td>...</td>\n",
       "      <td>...</td>\n",
       "      <td>...</td>\n",
       "      <td>...</td>\n",
       "      <td>...</td>\n",
       "      <td>...</td>\n",
       "      <td>...</td>\n",
       "      <td>...</td>\n",
       "      <td>...</td>\n",
       "      <td>...</td>\n",
       "    </tr>\n",
       "    <tr>\n",
       "      <th>1594</th>\n",
       "      <td>6.2</td>\n",
       "      <td>0.600</td>\n",
       "      <td>0.08</td>\n",
       "      <td>2.0</td>\n",
       "      <td>0.090</td>\n",
       "      <td>32.0</td>\n",
       "      <td>44.0</td>\n",
       "      <td>0.99490</td>\n",
       "      <td>3.45</td>\n",
       "      <td>0.58</td>\n",
       "      <td>10.5</td>\n",
       "      <td>5</td>\n",
       "    </tr>\n",
       "    <tr>\n",
       "      <th>1595</th>\n",
       "      <td>5.9</td>\n",
       "      <td>0.550</td>\n",
       "      <td>0.10</td>\n",
       "      <td>2.2</td>\n",
       "      <td>0.062</td>\n",
       "      <td>39.0</td>\n",
       "      <td>51.0</td>\n",
       "      <td>0.99512</td>\n",
       "      <td>3.52</td>\n",
       "      <td>0.76</td>\n",
       "      <td>11.2</td>\n",
       "      <td>6</td>\n",
       "    </tr>\n",
       "    <tr>\n",
       "      <th>1596</th>\n",
       "      <td>6.3</td>\n",
       "      <td>0.510</td>\n",
       "      <td>0.13</td>\n",
       "      <td>2.3</td>\n",
       "      <td>0.076</td>\n",
       "      <td>29.0</td>\n",
       "      <td>40.0</td>\n",
       "      <td>0.99574</td>\n",
       "      <td>3.42</td>\n",
       "      <td>0.75</td>\n",
       "      <td>11.0</td>\n",
       "      <td>6</td>\n",
       "    </tr>\n",
       "    <tr>\n",
       "      <th>1597</th>\n",
       "      <td>5.9</td>\n",
       "      <td>0.645</td>\n",
       "      <td>0.12</td>\n",
       "      <td>2.0</td>\n",
       "      <td>0.075</td>\n",
       "      <td>32.0</td>\n",
       "      <td>44.0</td>\n",
       "      <td>0.99547</td>\n",
       "      <td>3.57</td>\n",
       "      <td>0.71</td>\n",
       "      <td>10.2</td>\n",
       "      <td>5</td>\n",
       "    </tr>\n",
       "    <tr>\n",
       "      <th>1598</th>\n",
       "      <td>6.0</td>\n",
       "      <td>0.310</td>\n",
       "      <td>0.47</td>\n",
       "      <td>3.6</td>\n",
       "      <td>0.067</td>\n",
       "      <td>18.0</td>\n",
       "      <td>42.0</td>\n",
       "      <td>0.99549</td>\n",
       "      <td>3.39</td>\n",
       "      <td>0.66</td>\n",
       "      <td>11.0</td>\n",
       "      <td>6</td>\n",
       "    </tr>\n",
       "  </tbody>\n",
       "</table>\n",
       "<p>1599 rows × 12 columns</p>\n",
       "</div>"
      ],
      "text/plain": [
       "      fixed acidity  volatile acidity  citric acid  residual sugar  chlorides  \\\n",
       "0               7.4             0.700         0.00             1.9      0.076   \n",
       "1               7.8             0.880         0.00             2.6      0.098   \n",
       "2               7.8             0.760         0.04             2.3      0.092   \n",
       "3              11.2             0.280         0.56             1.9      0.075   \n",
       "4               7.4             0.700         0.00             1.9      0.076   \n",
       "...             ...               ...          ...             ...        ...   \n",
       "1594            6.2             0.600         0.08             2.0      0.090   \n",
       "1595            5.9             0.550         0.10             2.2      0.062   \n",
       "1596            6.3             0.510         0.13             2.3      0.076   \n",
       "1597            5.9             0.645         0.12             2.0      0.075   \n",
       "1598            6.0             0.310         0.47             3.6      0.067   \n",
       "\n",
       "      free sulfur dioxide  total sulfur dioxide  density    pH  sulphates  \\\n",
       "0                    11.0                  34.0  0.99780  3.51       0.56   \n",
       "1                    25.0                  67.0  0.99680  3.20       0.68   \n",
       "2                    15.0                  54.0  0.99700  3.26       0.65   \n",
       "3                    17.0                  60.0  0.99800  3.16       0.58   \n",
       "4                    11.0                  34.0  0.99780  3.51       0.56   \n",
       "...                   ...                   ...      ...   ...        ...   \n",
       "1594                 32.0                  44.0  0.99490  3.45       0.58   \n",
       "1595                 39.0                  51.0  0.99512  3.52       0.76   \n",
       "1596                 29.0                  40.0  0.99574  3.42       0.75   \n",
       "1597                 32.0                  44.0  0.99547  3.57       0.71   \n",
       "1598                 18.0                  42.0  0.99549  3.39       0.66   \n",
       "\n",
       "      alcohol  quality  \n",
       "0         9.4        5  \n",
       "1         9.8        5  \n",
       "2         9.8        5  \n",
       "3         9.8        6  \n",
       "4         9.4        5  \n",
       "...       ...      ...  \n",
       "1594     10.5        5  \n",
       "1595     11.2        6  \n",
       "1596     11.0        6  \n",
       "1597     10.2        5  \n",
       "1598     11.0        6  \n",
       "\n",
       "[1599 rows x 12 columns]"
      ]
     },
     "execution_count": 262,
     "metadata": {},
     "output_type": "execute_result"
    }
   ],
   "source": [
    "red"
   ]
  },
  {
   "cell_type": "code",
   "execution_count": 263,
   "metadata": {},
   "outputs": [
    {
     "name": "stdout",
     "output_type": "stream",
     "text": [
      "<class 'pandas.core.frame.DataFrame'>\n",
      "RangeIndex: 1599 entries, 0 to 1598\n",
      "Data columns (total 12 columns):\n",
      " #   Column                Non-Null Count  Dtype  \n",
      "---  ------                --------------  -----  \n",
      " 0   fixed acidity         1599 non-null   float64\n",
      " 1   volatile acidity      1599 non-null   float64\n",
      " 2   citric acid           1599 non-null   float64\n",
      " 3   residual sugar        1599 non-null   float64\n",
      " 4   chlorides             1599 non-null   float64\n",
      " 5   free sulfur dioxide   1599 non-null   float64\n",
      " 6   total sulfur dioxide  1599 non-null   float64\n",
      " 7   density               1599 non-null   float64\n",
      " 8   pH                    1599 non-null   float64\n",
      " 9   sulphates             1599 non-null   float64\n",
      " 10  alcohol               1599 non-null   float64\n",
      " 11  quality               1599 non-null   int64  \n",
      "dtypes: float64(11), int64(1)\n",
      "memory usage: 150.0 KB\n"
     ]
    }
   ],
   "source": [
    "red.info()"
   ]
  },
  {
   "cell_type": "markdown",
   "metadata": {},
   "source": [
    "# Plot and describe the data set"
   ]
  },
  {
   "cell_type": "code",
   "execution_count": 264,
   "metadata": {},
   "outputs": [
    {
     "data": {
      "image/png": "[encoded data removed]",
      "text/plain": [
       "<Figure size 2160x360 with 11 Axes>"
      ]
     },
     "metadata": {
      "needs_background": "light"
     },
     "output_type": "display_data"
    }
   ],
   "source": [
    "fig, axes = plt.subplots(1,11,figsize=(30,5))\n",
    "for i,ax in enumerate (axes.ravel()):\n",
    "    ax.scatter (x=red[\"quality\"],y=red[red.columns[i]],)\n",
    "    ax.set_title(red.columns[i])\n",
    "    ax.set_xlabel('Quality Level')"
   ]
  },
  {
   "cell_type": "code",
   "execution_count": 265,
   "metadata": {},
   "outputs": [
    {
     "data": {
      "text/plain": [
       "(4898, 12)"
      ]
     },
     "execution_count": 265,
     "metadata": {},
     "output_type": "execute_result"
    }
   ],
   "source": [
    "white.shape"
   ]
  },
  {
   "cell_type": "code",
   "execution_count": 266,
   "metadata": {},
   "outputs": [
    {
     "data": {
      "text/plain": [
       "(1599, 11)"
      ]
     },
     "execution_count": 266,
     "metadata": {},
     "output_type": "execute_result"
    }
   ],
   "source": [
    "X = red[['fixed acidity','volatile acidity','citric acid','residual sugar','chlorides',\n",
    "         'free sulfur dioxide','total sulfur dioxide','density','pH','sulphates','alcohol']].values\n",
    "X.shape"
   ]
  },
  {
   "cell_type": "code",
   "execution_count": 267,
   "metadata": {},
   "outputs": [
    {
     "data": {
      "text/plain": [
       "(1599, 1)"
      ]
     },
     "execution_count": 267,
     "metadata": {},
     "output_type": "execute_result"
    }
   ],
   "source": [
    "y = red['quality'].values.reshape(-1,1)\n",
    "y.shape"
   ]
  },
  {
   "cell_type": "markdown",
   "metadata": {},
   "source": [
    "# Multiple regression models for all features"
   ]
  },
  {
   "cell_type": "code",
   "execution_count": 268,
   "metadata": {},
   "outputs": [
    {
     "data": {
      "text/plain": [
       "(1599, 1)"
      ]
     },
     "execution_count": 268,
     "metadata": {},
     "output_type": "execute_result"
    }
   ],
   "source": [
    "from sklearn.model_selection import train_test_split\n",
    "X_train, X_test, y_train, y_test = train_test_split(X,y, test_size = 0.3, random_state = 12)\n",
    "\n",
    "X = X[:,0].reshape(-1,1)\n",
    "X.shape"
   ]
  },
  {
   "cell_type": "code",
   "execution_count": 269,
   "metadata": {},
   "outputs": [
    {
     "data": {
      "text/plain": [
       "0.32609824481483796"
      ]
     },
     "execution_count": 269,
     "metadata": {},
     "output_type": "execute_result"
    }
   ],
   "source": [
    "from sklearn.linear_model import LinearRegression\n",
    "from sklearn.metrics import r2_score\n",
    "reg = LinearRegression()\n",
    "reg.fit(X_train, y_train)\n",
    "reg.score(X_test,y_test)"
   ]
  },
  {
   "cell_type": "code",
   "execution_count": 289,
   "metadata": {
    "scrolled": true
   },
   "outputs": [
    {
     "name": "stdout",
     "output_type": "stream",
     "text": [
      "R^2 Score :0.326\n"
     ]
    }
   ],
   "source": [
    "y_pred = reg.predict(X_test)\n",
    "print('R^2 Score :%.3f' % r2_score(y_test,y_pred))\n",
    " "
   ]
  },
  {
   "cell_type": "code",
   "execution_count": 290,
   "metadata": {},
   "outputs": [
    {
     "ename": "ValueError",
     "evalue": "Classification metrics can't handle a mix of multiclass and continuous targets",
     "output_type": "error",
     "traceback": [
      "\u001b[0;31m---------------------------------------------------------------------------\u001b[0m",
      "\u001b[0;31mValueError\u001b[0m                                Traceback (most recent call last)",
      "\u001b[0;32m<ipython-input-290-92af121af4e3>\u001b[0m in \u001b[0;36m<module>\u001b[0;34m\u001b[0m\n\u001b[1;32m      1\u001b[0m \u001b[0;32mfrom\u001b[0m \u001b[0msklearn\u001b[0m \u001b[0;32mimport\u001b[0m \u001b[0mmetrics\u001b[0m\u001b[0;34m\u001b[0m\u001b[0;34m\u001b[0m\u001b[0m\n\u001b[1;32m      2\u001b[0m \u001b[0;34m\u001b[0m\u001b[0m\n\u001b[0;32m----> 3\u001b[0;31m \u001b[0mprint\u001b[0m\u001b[0;34m(\u001b[0m\u001b[0mmetrics\u001b[0m\u001b[0;34m.\u001b[0m\u001b[0maccuracy_score\u001b[0m\u001b[0;34m(\u001b[0m\u001b[0my_test\u001b[0m\u001b[0;34m,\u001b[0m\u001b[0my_pred\u001b[0m\u001b[0;34m)\u001b[0m\u001b[0;34m)\u001b[0m\u001b[0;34m\u001b[0m\u001b[0;34m\u001b[0m\u001b[0m\n\u001b[0m",
      "\u001b[0;32m/opt/anaconda3/lib/python3.8/site-packages/sklearn/utils/validation.py\u001b[0m in \u001b[0;36minner_f\u001b[0;34m(*args, **kwargs)\u001b[0m\n\u001b[1;32m     70\u001b[0m                           FutureWarning)\n\u001b[1;32m     71\u001b[0m         \u001b[0mkwargs\u001b[0m\u001b[0;34m.\u001b[0m\u001b[0mupdate\u001b[0m\u001b[0;34m(\u001b[0m\u001b[0;34m{\u001b[0m\u001b[0mk\u001b[0m\u001b[0;34m:\u001b[0m \u001b[0marg\u001b[0m \u001b[0;32mfor\u001b[0m \u001b[0mk\u001b[0m\u001b[0;34m,\u001b[0m \u001b[0marg\u001b[0m \u001b[0;32min\u001b[0m \u001b[0mzip\u001b[0m\u001b[0;34m(\u001b[0m\u001b[0msig\u001b[0m\u001b[0;34m.\u001b[0m\u001b[0mparameters\u001b[0m\u001b[0;34m,\u001b[0m \u001b[0margs\u001b[0m\u001b[0;34m)\u001b[0m\u001b[0;34m}\u001b[0m\u001b[0;34m)\u001b[0m\u001b[0;34m\u001b[0m\u001b[0;34m\u001b[0m\u001b[0m\n\u001b[0;32m---> 72\u001b[0;31m         \u001b[0;32mreturn\u001b[0m \u001b[0mf\u001b[0m\u001b[0;34m(\u001b[0m\u001b[0;34m**\u001b[0m\u001b[0mkwargs\u001b[0m\u001b[0;34m)\u001b[0m\u001b[0;34m\u001b[0m\u001b[0;34m\u001b[0m\u001b[0m\n\u001b[0m\u001b[1;32m     73\u001b[0m     \u001b[0;32mreturn\u001b[0m \u001b[0minner_f\u001b[0m\u001b[0;34m\u001b[0m\u001b[0;34m\u001b[0m\u001b[0m\n\u001b[1;32m     74\u001b[0m \u001b[0;34m\u001b[0m\u001b[0m\n",
      "\u001b[0;32m/opt/anaconda3/lib/python3.8/site-packages/sklearn/metrics/_classification.py\u001b[0m in \u001b[0;36maccuracy_score\u001b[0;34m(y_true, y_pred, normalize, sample_weight)\u001b[0m\n\u001b[1;32m    185\u001b[0m \u001b[0;34m\u001b[0m\u001b[0m\n\u001b[1;32m    186\u001b[0m     \u001b[0;31m# Compute accuracy for each possible representation\u001b[0m\u001b[0;34m\u001b[0m\u001b[0;34m\u001b[0m\u001b[0;34m\u001b[0m\u001b[0m\n\u001b[0;32m--> 187\u001b[0;31m     \u001b[0my_type\u001b[0m\u001b[0;34m,\u001b[0m \u001b[0my_true\u001b[0m\u001b[0;34m,\u001b[0m \u001b[0my_pred\u001b[0m \u001b[0;34m=\u001b[0m \u001b[0m_check_targets\u001b[0m\u001b[0;34m(\u001b[0m\u001b[0my_true\u001b[0m\u001b[0;34m,\u001b[0m \u001b[0my_pred\u001b[0m\u001b[0;34m)\u001b[0m\u001b[0;34m\u001b[0m\u001b[0;34m\u001b[0m\u001b[0m\n\u001b[0m\u001b[1;32m    188\u001b[0m     \u001b[0mcheck_consistent_length\u001b[0m\u001b[0;34m(\u001b[0m\u001b[0my_true\u001b[0m\u001b[0;34m,\u001b[0m \u001b[0my_pred\u001b[0m\u001b[0;34m,\u001b[0m \u001b[0msample_weight\u001b[0m\u001b[0;34m)\u001b[0m\u001b[0;34m\u001b[0m\u001b[0;34m\u001b[0m\u001b[0m\n\u001b[1;32m    189\u001b[0m     \u001b[0;32mif\u001b[0m \u001b[0my_type\u001b[0m\u001b[0;34m.\u001b[0m\u001b[0mstartswith\u001b[0m\u001b[0;34m(\u001b[0m\u001b[0;34m'multilabel'\u001b[0m\u001b[0;34m)\u001b[0m\u001b[0;34m:\u001b[0m\u001b[0;34m\u001b[0m\u001b[0;34m\u001b[0m\u001b[0m\n",
      "\u001b[0;32m/opt/anaconda3/lib/python3.8/site-packages/sklearn/metrics/_classification.py\u001b[0m in \u001b[0;36m_check_targets\u001b[0;34m(y_true, y_pred)\u001b[0m\n\u001b[1;32m     88\u001b[0m \u001b[0;34m\u001b[0m\u001b[0m\n\u001b[1;32m     89\u001b[0m     \u001b[0;32mif\u001b[0m \u001b[0mlen\u001b[0m\u001b[0;34m(\u001b[0m\u001b[0my_type\u001b[0m\u001b[0;34m)\u001b[0m \u001b[0;34m>\u001b[0m \u001b[0;36m1\u001b[0m\u001b[0;34m:\u001b[0m\u001b[0;34m\u001b[0m\u001b[0;34m\u001b[0m\u001b[0m\n\u001b[0;32m---> 90\u001b[0;31m         raise ValueError(\"Classification metrics can't handle a mix of {0} \"\n\u001b[0m\u001b[1;32m     91\u001b[0m                          \"and {1} targets\".format(type_true, type_pred))\n\u001b[1;32m     92\u001b[0m \u001b[0;34m\u001b[0m\u001b[0m\n",
      "\u001b[0;31mValueError\u001b[0m: Classification metrics can't handle a mix of multiclass and continuous targets"
     ]
    }
   ],
   "source": [
    "from sklearn import metrics\n",
    "\n",
    "print(metrics.accuracy_score(y_test,y_pred))"
   ]
  },
  {
   "cell_type": "code",
   "execution_count": 291,
   "metadata": {},
   "outputs": [
    {
     "ename": "ValueError",
     "evalue": "Classification metrics can't handle a mix of multiclass and continuous targets",
     "output_type": "error",
     "traceback": [
      "\u001b[0;31m---------------------------------------------------------------------------\u001b[0m",
      "\u001b[0;31mValueError\u001b[0m                                Traceback (most recent call last)",
      "\u001b[0;32m<ipython-input-291-8b48c6dc7ca5>\u001b[0m in \u001b[0;36m<module>\u001b[0;34m\u001b[0m\n\u001b[1;32m      1\u001b[0m \u001b[0;32mfrom\u001b[0m \u001b[0msklearn\u001b[0m\u001b[0;34m.\u001b[0m\u001b[0mmetrics\u001b[0m \u001b[0;32mimport\u001b[0m \u001b[0mclassification_report\u001b[0m\u001b[0;34m\u001b[0m\u001b[0;34m\u001b[0m\u001b[0m\n\u001b[1;32m      2\u001b[0m \u001b[0;34m\u001b[0m\u001b[0m\n\u001b[0;32m----> 3\u001b[0;31m \u001b[0mprint\u001b[0m\u001b[0;34m(\u001b[0m\u001b[0mclassification_report\u001b[0m\u001b[0;34m(\u001b[0m\u001b[0my_test\u001b[0m\u001b[0;34m,\u001b[0m \u001b[0my_multi_pred\u001b[0m\u001b[0;34m)\u001b[0m\u001b[0;34m)\u001b[0m\u001b[0;34m\u001b[0m\u001b[0;34m\u001b[0m\u001b[0m\n\u001b[0m",
      "\u001b[0;32m/opt/anaconda3/lib/python3.8/site-packages/sklearn/utils/validation.py\u001b[0m in \u001b[0;36minner_f\u001b[0;34m(*args, **kwargs)\u001b[0m\n\u001b[1;32m     70\u001b[0m                           FutureWarning)\n\u001b[1;32m     71\u001b[0m         \u001b[0mkwargs\u001b[0m\u001b[0;34m.\u001b[0m\u001b[0mupdate\u001b[0m\u001b[0;34m(\u001b[0m\u001b[0;34m{\u001b[0m\u001b[0mk\u001b[0m\u001b[0;34m:\u001b[0m \u001b[0marg\u001b[0m \u001b[0;32mfor\u001b[0m \u001b[0mk\u001b[0m\u001b[0;34m,\u001b[0m \u001b[0marg\u001b[0m \u001b[0;32min\u001b[0m \u001b[0mzip\u001b[0m\u001b[0;34m(\u001b[0m\u001b[0msig\u001b[0m\u001b[0;34m.\u001b[0m\u001b[0mparameters\u001b[0m\u001b[0;34m,\u001b[0m \u001b[0margs\u001b[0m\u001b[0;34m)\u001b[0m\u001b[0;34m}\u001b[0m\u001b[0;34m)\u001b[0m\u001b[0;34m\u001b[0m\u001b[0;34m\u001b[0m\u001b[0m\n\u001b[0;32m---> 72\u001b[0;31m         \u001b[0;32mreturn\u001b[0m \u001b[0mf\u001b[0m\u001b[0;34m(\u001b[0m\u001b[0;34m**\u001b[0m\u001b[0mkwargs\u001b[0m\u001b[0;34m)\u001b[0m\u001b[0;34m\u001b[0m\u001b[0;34m\u001b[0m\u001b[0m\n\u001b[0m\u001b[1;32m     73\u001b[0m     \u001b[0;32mreturn\u001b[0m \u001b[0minner_f\u001b[0m\u001b[0;34m\u001b[0m\u001b[0;34m\u001b[0m\u001b[0m\n\u001b[1;32m     74\u001b[0m \u001b[0;34m\u001b[0m\u001b[0m\n",
      "\u001b[0;32m/opt/anaconda3/lib/python3.8/site-packages/sklearn/metrics/_classification.py\u001b[0m in \u001b[0;36mclassification_report\u001b[0;34m(y_true, y_pred, labels, target_names, sample_weight, digits, output_dict, zero_division)\u001b[0m\n\u001b[1;32m   1927\u001b[0m     \"\"\"\n\u001b[1;32m   1928\u001b[0m \u001b[0;34m\u001b[0m\u001b[0m\n\u001b[0;32m-> 1929\u001b[0;31m     \u001b[0my_type\u001b[0m\u001b[0;34m,\u001b[0m \u001b[0my_true\u001b[0m\u001b[0;34m,\u001b[0m \u001b[0my_pred\u001b[0m \u001b[0;34m=\u001b[0m \u001b[0m_check_targets\u001b[0m\u001b[0;34m(\u001b[0m\u001b[0my_true\u001b[0m\u001b[0;34m,\u001b[0m \u001b[0my_pred\u001b[0m\u001b[0;34m)\u001b[0m\u001b[0;34m\u001b[0m\u001b[0;34m\u001b[0m\u001b[0m\n\u001b[0m\u001b[1;32m   1930\u001b[0m \u001b[0;34m\u001b[0m\u001b[0m\n\u001b[1;32m   1931\u001b[0m     \u001b[0mlabels_given\u001b[0m \u001b[0;34m=\u001b[0m \u001b[0;32mTrue\u001b[0m\u001b[0;34m\u001b[0m\u001b[0;34m\u001b[0m\u001b[0m\n",
      "\u001b[0;32m/opt/anaconda3/lib/python3.8/site-packages/sklearn/metrics/_classification.py\u001b[0m in \u001b[0;36m_check_targets\u001b[0;34m(y_true, y_pred)\u001b[0m\n\u001b[1;32m     88\u001b[0m \u001b[0;34m\u001b[0m\u001b[0m\n\u001b[1;32m     89\u001b[0m     \u001b[0;32mif\u001b[0m \u001b[0mlen\u001b[0m\u001b[0;34m(\u001b[0m\u001b[0my_type\u001b[0m\u001b[0;34m)\u001b[0m \u001b[0;34m>\u001b[0m \u001b[0;36m1\u001b[0m\u001b[0;34m:\u001b[0m\u001b[0;34m\u001b[0m\u001b[0;34m\u001b[0m\u001b[0m\n\u001b[0;32m---> 90\u001b[0;31m         raise ValueError(\"Classification metrics can't handle a mix of {0} \"\n\u001b[0m\u001b[1;32m     91\u001b[0m                          \"and {1} targets\".format(type_true, type_pred))\n\u001b[1;32m     92\u001b[0m \u001b[0;34m\u001b[0m\u001b[0m\n",
      "\u001b[0;31mValueError\u001b[0m: Classification metrics can't handle a mix of multiclass and continuous targets"
     ]
    }
   ],
   "source": [
    "from sklearn.metrics import classification_report\n",
    "\n",
    "print(classification_report(y_test, y_multi_pred))"
   ]
  },
  {
   "cell_type": "code",
   "execution_count": 182,
   "metadata": {},
   "outputs": [
    {
     "name": "stdout",
     "output_type": "stream",
     "text": [
      "{'alpha': array([1.00000000e-03, 1.62377674e-03, 2.63665090e-03, 4.28133240e-03,\n",
      "       6.95192796e-03, 1.12883789e-02, 1.83298071e-02, 2.97635144e-02,\n",
      "       4.83293024e-02, 7.84759970e-02, 1.27427499e-01, 2.06913808e-01,\n",
      "       3.35981829e-01, 5.45559478e-01, 8.85866790e-01, 1.43844989e+00,\n",
      "       2.33572147e+00, 3.79269019e+00, 6.15848211e+00, 1.00000000e+01])}\n"
     ]
    },
    {
     "data": {
      "text/plain": [
       "GridSearchCV(cv=10, estimator=Ridge(),\n",
       "             param_grid={'alpha': array([1.00000000e-03, 1.62377674e-03, 2.63665090e-03, 4.28133240e-03,\n",
       "       6.95192796e-03, 1.12883789e-02, 1.83298071e-02, 2.97635144e-02,\n",
       "       4.83293024e-02, 7.84759970e-02, 1.27427499e-01, 2.06913808e-01,\n",
       "       3.35981829e-01, 5.45559478e-01, 8.85866790e-01, 1.43844989e+00,\n",
       "       2.33572147e+00, 3.79269019e+00, 6.15848211e+00, 1.00000000e+01])},\n",
       "             return_train_score=True)"
      ]
     },
     "execution_count": 182,
     "metadata": {},
     "output_type": "execute_result"
    }
   ],
   "source": [
    "param_grid = {'alpha': np.logspace(-3,1,20)}\n",
    "print(param_grid)\n",
    "\n",
    "from sklearn.linear_model import Ridge\n",
    "from sklearn.model_selection import GridSearchCV\n",
    "\n",
    "grid_ridge = GridSearchCV(Ridge(), param_grid, cv=10, return_train_score=True)\n",
    "\n",
    "grid_ridge.fit(X_train, y_train)"
   ]
  },
  {
   "cell_type": "code",
   "execution_count": 183,
   "metadata": {},
   "outputs": [
    {
     "data": {
      "text/plain": [
       "{'alpha': 0.07847599703514611}"
      ]
     },
     "execution_count": 183,
     "metadata": {},
     "output_type": "execute_result"
    }
   ],
   "source": [
    "best_param_ridge = grid_ridge.best_params_\n",
    "best_param_ridge"
   ]
  },
  {
   "cell_type": "code",
   "execution_count": 184,
   "metadata": {},
   "outputs": [
    {
     "data": {
      "text/plain": [
       "Ridge(alpha=0.07847599703514611)"
      ]
     },
     "execution_count": 184,
     "metadata": {},
     "output_type": "execute_result"
    }
   ],
   "source": [
    "ridge = Ridge( alpha = best_param_ridge['alpha'])\n",
    "ridge.fit(X_train, y_train)"
   ]
  },
  {
   "cell_type": "code",
   "execution_count": 185,
   "metadata": {},
   "outputs": [
    {
     "data": {
      "text/plain": [
       "0.3257314156491875"
      ]
     },
     "execution_count": 185,
     "metadata": {},
     "output_type": "execute_result"
    }
   ],
   "source": [
    "ridge_score = ridge.score(X_test,y_test)\n",
    "ridge_score"
   ]
  },
  {
   "cell_type": "markdown",
   "metadata": {},
   "source": [
    "# Apply Decision Tree\n"
   ]
  },
  {
   "cell_type": "code",
   "execution_count": 186,
   "metadata": {},
   "outputs": [],
   "source": [
    "#features=[\"fixed acidity\",\"volatile acidity\",\"citric acid\",\"residual sugar\",\"chlorides\",\"free sulfur dioxide\",\"total sulfur dioxide\",\"density\",\"pH\",\"sulphates\",\"alcohol\"]\n",
    "#red=red[features]\n",
    "\n",
    "#X = red.loc['fixed acidity':'alcohol'].values\n",
    "#y = red['quality'].values.reshape(-1,1)\n",
    "\n",
    "#len(red)\n",
    "\n",
    "X = red[['fixed acidity','volatile acidity','citric acid','residual sugar','chlorides',\n",
    "         'free sulfur dioxide','total sulfur dioxide','density','pH','sulphates','alcohol']].values\n",
    "X.shape\n",
    "\n",
    "y = red['quality'].values.reshape(-1,1)\n",
    "y.shape"
   ]
  },
  {
   "cell_type": "code",
   "execution_count": 195,
   "metadata": {},
   "outputs": [],
   "source": [
    "from sklearn.model_selection import train_test_split\n",
    "X_train, X_test, y_train, y_test = train_test_split(X,y,test_size=0.3,random_state=0)\n"
   ]
  },
  {
   "cell_type": "code",
   "execution_count": 234,
   "metadata": {},
   "outputs": [
    {
     "data": {
      "text/plain": [
       "DecisionTreeClassifier(max_depth=3)"
      ]
     },
     "execution_count": 234,
     "metadata": {},
     "output_type": "execute_result"
    }
   ],
   "source": [
    "from sklearn.tree import DecisionTreeClassifier, export_graphviz\n",
    "tree = DecisionTreeClassifier(max_depth=3)\n",
    "tree.fit(X_train,y_train)\n",
    "\n"
   ]
  },
  {
   "cell_type": "code",
   "execution_count": 235,
   "metadata": {},
   "outputs": [
    {
     "data": {
      "text/plain": [
       "'digraph Tree {\\nnode [shape=box] ;\\n0 [label=\"alcohol <= 10.917\\\\ngini = 0.674\\\\nsamples = 3428\\\\nvalue = [12, 121, 1026, 1548, 596, 120, 5]\"] ;\\n1 [label=\"volatile acidity <= 0.267\\\\ngini = 0.627\\\\nsamples = 2258\\\\nvalue = [6, 96, 923, 999, 200, 33, 1]\"] ;\\n0 -> 1 [labeldistance=2.5, labelangle=45, headlabel=\"True\"] ;\\n2 [label=\"volatile acidity <= 0.207\\\\ngini = 0.614\\\\nsamples = 1186\\\\nvalue = [3, 19, 332, 635, 167, 30, 0]\"] ;\\n1 -> 2 ;\\n3 [label=\"gini = 0.62\\\\nsamples = 529\\\\nvalue = [2, 7, 99, 290, 109, 22, 0]\"] ;\\n2 -> 3 ;\\n4 [label=\"gini = 0.59\\\\nsamples = 657\\\\nvalue = [1, 12, 233, 345, 58, 8, 0]\"] ;\\n2 -> 4 ;\\n5 [label=\"alcohol <= 10.017\\\\ngini = 0.575\\\\nsamples = 1072\\\\nvalue = [3, 77, 591, 364, 33, 3, 1]\"] ;\\n1 -> 5 ;\\n6 [label=\"gini = 0.523\\\\nsamples = 771\\\\nvalue = [2, 48, 476, 234, 11, 0, 0]\"] ;\\n5 -> 6 ;\\n7 [label=\"gini = 0.653\\\\nsamples = 301\\\\nvalue = [1, 29, 115, 130, 22, 3, 1]\"] ;\\n5 -> 7 ;\\n8 [label=\"alcohol <= 12.55\\\\ngini = 0.651\\\\nsamples = 1170\\\\nvalue = [6, 25, 103, 549, 396, 87, 4]\"] ;\\n0 -> 8 [labeldistance=2.5, labelangle=-45, headlabel=\"False\"] ;\\n9 [label=\"free sulfur dioxide <= 11.5\\\\ngini = 0.643\\\\nsamples = 922\\\\nvalue = [5, 22, 97, 464, 274, 58, 2]\"] ;\\n8 -> 9 ;\\n10 [label=\"gini = 0.725\\\\nsamples = 57\\\\nvalue = [0, 16, 16, 19, 4, 2, 0]\"] ;\\n9 -> 10 ;\\n11 [label=\"gini = 0.625\\\\nsamples = 865\\\\nvalue = [5, 6, 81, 445, 270, 56, 2]\"] ;\\n9 -> 11 ;\\n12 [label=\"chlorides <= 0.047\\\\ngini = 0.626\\\\nsamples = 248\\\\nvalue = [1, 3, 6, 85, 122, 29, 2]\"] ;\\n8 -> 12 ;\\n13 [label=\"gini = 0.611\\\\nsamples = 235\\\\nvalue = [1, 3, 3, 76, 122, 28, 2]\"] ;\\n12 -> 13 ;\\n14 [label=\"gini = 0.462\\\\nsamples = 13\\\\nvalue = [0, 0, 3, 9, 0, 1, 0]\"] ;\\n12 -> 14 ;\\n}'"
      ]
     },
     "execution_count": 235,
     "metadata": {},
     "output_type": "execute_result"
    }
   ],
   "source": [
    "tree_dot = export_graphviz(tree,out_file=None, feature_names=[\"fixed acidity\",\"volatile acidity\",\n",
    "                                                              \"citric acid\",\"residual sugar\",\"chlorides\",\n",
    "                                                              \"free sulfur dioxide\",\"total sulfur dioxide\",\n",
    "                                                              \"density\",\"pH\",\"sulphates\",\"alcohol\"])\n",
    "tree_dot"
   ]
  },
  {
   "cell_type": "code",
   "execution_count": 236,
   "metadata": {},
   "outputs": [
    {
     "data": {
      "image/svg+xml": [
       "<?xml version=\"1.0\" encoding=\"UTF-8\" standalone=\"no\"?>\n",
       "<!DOCTYPE svg PUBLIC \"-//W3C//DTD SVG 1.1//EN\"\n",
       " \"http://www.w3.org/Graphics/SVG/1.1/DTD/svg11.dtd\">\n",
       "<!-- Generated by graphviz version 2.47.1 (20210417.1919)\n",
       " -->\n",
       "<!-- Title: Tree Pages: 1 -->\n",
       "<svg width=\"1686pt\" height=\"373pt\"\n",
       " viewBox=\"0.00 0.00 1686.00 373.00\" xmlns=\"http://www.w3.org/2000/svg\" xmlns:xlink=\"http://www.w3.org/1999/xlink\">\n",
       "<g id=\"graph0\" class=\"graph\" transform=\"scale(1 1) rotate(0) translate(4 369)\">\n",
       "<title>Tree</title>\n",
       "<polygon fill=\"white\" stroke=\"transparent\" points=\"-4,4 -4,-369 1682,-369 1682,4 -4,4\"/>\n",
       "<!-- 0 -->\n",
       "<g id=\"node1\" class=\"node\">\n",
       "<title>0</title>\n",
       "<polygon fill=\"none\" stroke=\"black\" points=\"983,-365 732,-365 732,-297 983,-297 983,-365\"/>\n",
       "<text text-anchor=\"middle\" x=\"857.5\" y=\"-349.8\" font-family=\"Times,serif\" font-size=\"14.00\">alcohol &lt;= 10.917</text>\n",
       "<text text-anchor=\"middle\" x=\"857.5\" y=\"-334.8\" font-family=\"Times,serif\" font-size=\"14.00\">gini = 0.674</text>\n",
       "<text text-anchor=\"middle\" x=\"857.5\" y=\"-319.8\" font-family=\"Times,serif\" font-size=\"14.00\">samples = 3428</text>\n",
       "<text text-anchor=\"middle\" x=\"857.5\" y=\"-304.8\" font-family=\"Times,serif\" font-size=\"14.00\">value = [12, 121, 1026, 1548, 596, 120, 5]</text>\n",
       "</g>\n",
       "<!-- 1 -->\n",
       "<g id=\"node2\" class=\"node\">\n",
       "<title>1</title>\n",
       "<polygon fill=\"none\" stroke=\"black\" points=\"754,-261 537,-261 537,-193 754,-193 754,-261\"/>\n",
       "<text text-anchor=\"middle\" x=\"645.5\" y=\"-245.8\" font-family=\"Times,serif\" font-size=\"14.00\">volatile acidity &lt;= 0.267</text>\n",
       "<text text-anchor=\"middle\" x=\"645.5\" y=\"-230.8\" font-family=\"Times,serif\" font-size=\"14.00\">gini = 0.627</text>\n",
       "<text text-anchor=\"middle\" x=\"645.5\" y=\"-215.8\" font-family=\"Times,serif\" font-size=\"14.00\">samples = 2258</text>\n",
       "<text text-anchor=\"middle\" x=\"645.5\" y=\"-200.8\" font-family=\"Times,serif\" font-size=\"14.00\">value = [6, 96, 923, 999, 200, 33, 1]</text>\n",
       "</g>\n",
       "<!-- 0&#45;&gt;1 -->\n",
       "<g id=\"edge1\" class=\"edge\">\n",
       "<title>0&#45;&gt;1</title>\n",
       "<path fill=\"none\" stroke=\"black\" d=\"M788.67,-296.88C767.83,-286.86 744.79,-275.77 723.4,-265.48\"/>\n",
       "<polygon fill=\"black\" stroke=\"black\" points=\"724.88,-262.31 714.35,-261.12 721.84,-268.61 724.88,-262.31\"/>\n",
       "<text text-anchor=\"middle\" x=\"722.61\" y=\"-281.02\" font-family=\"Times,serif\" font-size=\"14.00\">True</text>\n",
       "</g>\n",
       "<!-- 8 -->\n",
       "<g id=\"node9\" class=\"node\">\n",
       "<title>8</title>\n",
       "<polygon fill=\"none\" stroke=\"black\" points=\"1188,-261 971,-261 971,-193 1188,-193 1188,-261\"/>\n",
       "<text text-anchor=\"middle\" x=\"1079.5\" y=\"-245.8\" font-family=\"Times,serif\" font-size=\"14.00\">alcohol &lt;= 12.55</text>\n",
       "<text text-anchor=\"middle\" x=\"1079.5\" y=\"-230.8\" font-family=\"Times,serif\" font-size=\"14.00\">gini = 0.651</text>\n",
       "<text text-anchor=\"middle\" x=\"1079.5\" y=\"-215.8\" font-family=\"Times,serif\" font-size=\"14.00\">samples = 1170</text>\n",
       "<text text-anchor=\"middle\" x=\"1079.5\" y=\"-200.8\" font-family=\"Times,serif\" font-size=\"14.00\">value = [6, 25, 103, 549, 396, 87, 4]</text>\n",
       "</g>\n",
       "<!-- 0&#45;&gt;8 -->\n",
       "<g id=\"edge8\" class=\"edge\">\n",
       "<title>0&#45;&gt;8</title>\n",
       "<path fill=\"none\" stroke=\"black\" d=\"M929.58,-296.88C951.5,-286.81 975.74,-275.67 998.22,-265.34\"/>\n",
       "<polygon fill=\"black\" stroke=\"black\" points=\"999.78,-268.48 1007.4,-261.12 996.86,-262.12 999.78,-268.48\"/>\n",
       "<text text-anchor=\"middle\" x=\"998.72\" y=\"-280.87\" font-family=\"Times,serif\" font-size=\"14.00\">False</text>\n",
       "</g>\n",
       "<!-- 2 -->\n",
       "<g id=\"node3\" class=\"node\">\n",
       "<title>2</title>\n",
       "<polygon fill=\"none\" stroke=\"black\" points=\"431,-157 214,-157 214,-89 431,-89 431,-157\"/>\n",
       "<text text-anchor=\"middle\" x=\"322.5\" y=\"-141.8\" font-family=\"Times,serif\" font-size=\"14.00\">volatile acidity &lt;= 0.207</text>\n",
       "<text text-anchor=\"middle\" x=\"322.5\" y=\"-126.8\" font-family=\"Times,serif\" font-size=\"14.00\">gini = 0.614</text>\n",
       "<text text-anchor=\"middle\" x=\"322.5\" y=\"-111.8\" font-family=\"Times,serif\" font-size=\"14.00\">samples = 1186</text>\n",
       "<text text-anchor=\"middle\" x=\"322.5\" y=\"-96.8\" font-family=\"Times,serif\" font-size=\"14.00\">value = [3, 19, 332, 635, 167, 30, 0]</text>\n",
       "</g>\n",
       "<!-- 1&#45;&gt;2 -->\n",
       "<g id=\"edge2\" class=\"edge\">\n",
       "<title>1&#45;&gt;2</title>\n",
       "<path fill=\"none\" stroke=\"black\" d=\"M540.63,-192.88C507.52,-182.43 470.77,-170.82 437.02,-160.16\"/>\n",
       "<polygon fill=\"black\" stroke=\"black\" points=\"437.71,-156.71 427.12,-157.04 435.6,-163.39 437.71,-156.71\"/>\n",
       "</g>\n",
       "<!-- 5 -->\n",
       "<g id=\"node6\" class=\"node\">\n",
       "<title>5</title>\n",
       "<polygon fill=\"none\" stroke=\"black\" points=\"747,-157 544,-157 544,-89 747,-89 747,-157\"/>\n",
       "<text text-anchor=\"middle\" x=\"645.5\" y=\"-141.8\" font-family=\"Times,serif\" font-size=\"14.00\">alcohol &lt;= 10.017</text>\n",
       "<text text-anchor=\"middle\" x=\"645.5\" y=\"-126.8\" font-family=\"Times,serif\" font-size=\"14.00\">gini = 0.575</text>\n",
       "<text text-anchor=\"middle\" x=\"645.5\" y=\"-111.8\" font-family=\"Times,serif\" font-size=\"14.00\">samples = 1072</text>\n",
       "<text text-anchor=\"middle\" x=\"645.5\" y=\"-96.8\" font-family=\"Times,serif\" font-size=\"14.00\">value = [3, 77, 591, 364, 33, 3, 1]</text>\n",
       "</g>\n",
       "<!-- 1&#45;&gt;5 -->\n",
       "<g id=\"edge5\" class=\"edge\">\n",
       "<title>1&#45;&gt;5</title>\n",
       "<path fill=\"none\" stroke=\"black\" d=\"M645.5,-192.88C645.5,-184.78 645.5,-175.98 645.5,-167.47\"/>\n",
       "<polygon fill=\"black\" stroke=\"black\" points=\"649,-167.3 645.5,-157.3 642,-167.3 649,-167.3\"/>\n",
       "</g>\n",
       "<!-- 3 -->\n",
       "<g id=\"node4\" class=\"node\">\n",
       "<title>3</title>\n",
       "<polygon fill=\"none\" stroke=\"black\" points=\"203,-53 0,-53 0,0 203,0 203,-53\"/>\n",
       "<text text-anchor=\"middle\" x=\"101.5\" y=\"-37.8\" font-family=\"Times,serif\" font-size=\"14.00\">gini = 0.62</text>\n",
       "<text text-anchor=\"middle\" x=\"101.5\" y=\"-22.8\" font-family=\"Times,serif\" font-size=\"14.00\">samples = 529</text>\n",
       "<text text-anchor=\"middle\" x=\"101.5\" y=\"-7.8\" font-family=\"Times,serif\" font-size=\"14.00\">value = [2, 7, 99, 290, 109, 22, 0]</text>\n",
       "</g>\n",
       "<!-- 2&#45;&gt;3 -->\n",
       "<g id=\"edge3\" class=\"edge\">\n",
       "<title>2&#45;&gt;3</title>\n",
       "<path fill=\"none\" stroke=\"black\" d=\"M245.2,-88.95C220.92,-78.56 194.28,-67.17 170.6,-57.05\"/>\n",
       "<polygon fill=\"black\" stroke=\"black\" points=\"171.91,-53.8 161.34,-53.09 169.16,-60.24 171.91,-53.8\"/>\n",
       "</g>\n",
       "<!-- 4 -->\n",
       "<g id=\"node5\" class=\"node\">\n",
       "<title>4</title>\n",
       "<polygon fill=\"none\" stroke=\"black\" points=\"424,-53 221,-53 221,0 424,0 424,-53\"/>\n",
       "<text text-anchor=\"middle\" x=\"322.5\" y=\"-37.8\" font-family=\"Times,serif\" font-size=\"14.00\">gini = 0.59</text>\n",
       "<text text-anchor=\"middle\" x=\"322.5\" y=\"-22.8\" font-family=\"Times,serif\" font-size=\"14.00\">samples = 657</text>\n",
       "<text text-anchor=\"middle\" x=\"322.5\" y=\"-7.8\" font-family=\"Times,serif\" font-size=\"14.00\">value = [1, 12, 233, 345, 58, 8, 0]</text>\n",
       "</g>\n",
       "<!-- 2&#45;&gt;4 -->\n",
       "<g id=\"edge4\" class=\"edge\">\n",
       "<title>2&#45;&gt;4</title>\n",
       "<path fill=\"none\" stroke=\"black\" d=\"M322.5,-88.95C322.5,-80.72 322.5,-71.85 322.5,-63.48\"/>\n",
       "<polygon fill=\"black\" stroke=\"black\" points=\"326,-63.24 322.5,-53.24 319,-63.24 326,-63.24\"/>\n",
       "</g>\n",
       "<!-- 6 -->\n",
       "<g id=\"node7\" class=\"node\">\n",
       "<title>6</title>\n",
       "<polygon fill=\"none\" stroke=\"black\" points=\"645,-53 442,-53 442,0 645,0 645,-53\"/>\n",
       "<text text-anchor=\"middle\" x=\"543.5\" y=\"-37.8\" font-family=\"Times,serif\" font-size=\"14.00\">gini = 0.523</text>\n",
       "<text text-anchor=\"middle\" x=\"543.5\" y=\"-22.8\" font-family=\"Times,serif\" font-size=\"14.00\">samples = 771</text>\n",
       "<text text-anchor=\"middle\" x=\"543.5\" y=\"-7.8\" font-family=\"Times,serif\" font-size=\"14.00\">value = [2, 48, 476, 234, 11, 0, 0]</text>\n",
       "</g>\n",
       "<!-- 5&#45;&gt;6 -->\n",
       "<g id=\"edge6\" class=\"edge\">\n",
       "<title>5&#45;&gt;6</title>\n",
       "<path fill=\"none\" stroke=\"black\" d=\"M609.83,-88.95C599.75,-79.62 588.8,-69.47 578.76,-60.16\"/>\n",
       "<polygon fill=\"black\" stroke=\"black\" points=\"580.99,-57.47 571.28,-53.24 576.24,-62.6 580.99,-57.47\"/>\n",
       "</g>\n",
       "<!-- 7 -->\n",
       "<g id=\"node8\" class=\"node\">\n",
       "<title>7</title>\n",
       "<polygon fill=\"none\" stroke=\"black\" points=\"866,-53 663,-53 663,0 866,0 866,-53\"/>\n",
       "<text text-anchor=\"middle\" x=\"764.5\" y=\"-37.8\" font-family=\"Times,serif\" font-size=\"14.00\">gini = 0.653</text>\n",
       "<text text-anchor=\"middle\" x=\"764.5\" y=\"-22.8\" font-family=\"Times,serif\" font-size=\"14.00\">samples = 301</text>\n",
       "<text text-anchor=\"middle\" x=\"764.5\" y=\"-7.8\" font-family=\"Times,serif\" font-size=\"14.00\">value = [1, 29, 115, 130, 22, 3, 1]</text>\n",
       "</g>\n",
       "<!-- 5&#45;&gt;7 -->\n",
       "<g id=\"edge7\" class=\"edge\">\n",
       "<title>5&#45;&gt;7</title>\n",
       "<path fill=\"none\" stroke=\"black\" d=\"M687.12,-88.95C699.1,-79.43 712.15,-69.07 724.06,-59.62\"/>\n",
       "<polygon fill=\"black\" stroke=\"black\" points=\"726.44,-62.2 732.09,-53.24 722.08,-56.71 726.44,-62.2\"/>\n",
       "</g>\n",
       "<!-- 9 -->\n",
       "<g id=\"node10\" class=\"node\">\n",
       "<title>9</title>\n",
       "<polygon fill=\"none\" stroke=\"black\" points=\"1184.5,-157 974.5,-157 974.5,-89 1184.5,-89 1184.5,-157\"/>\n",
       "<text text-anchor=\"middle\" x=\"1079.5\" y=\"-141.8\" font-family=\"Times,serif\" font-size=\"14.00\">free sulfur dioxide &lt;= 11.5</text>\n",
       "<text text-anchor=\"middle\" x=\"1079.5\" y=\"-126.8\" font-family=\"Times,serif\" font-size=\"14.00\">gini = 0.643</text>\n",
       "<text text-anchor=\"middle\" x=\"1079.5\" y=\"-111.8\" font-family=\"Times,serif\" font-size=\"14.00\">samples = 922</text>\n",
       "<text text-anchor=\"middle\" x=\"1079.5\" y=\"-96.8\" font-family=\"Times,serif\" font-size=\"14.00\">value = [5, 22, 97, 464, 274, 58, 2]</text>\n",
       "</g>\n",
       "<!-- 8&#45;&gt;9 -->\n",
       "<g id=\"edge9\" class=\"edge\">\n",
       "<title>8&#45;&gt;9</title>\n",
       "<path fill=\"none\" stroke=\"black\" d=\"M1079.5,-192.88C1079.5,-184.78 1079.5,-175.98 1079.5,-167.47\"/>\n",
       "<polygon fill=\"black\" stroke=\"black\" points=\"1083,-167.3 1079.5,-157.3 1076,-167.3 1083,-167.3\"/>\n",
       "</g>\n",
       "<!-- 12 -->\n",
       "<g id=\"node13\" class=\"node\">\n",
       "<title>12</title>\n",
       "<polygon fill=\"none\" stroke=\"black\" points=\"1496.5,-157 1306.5,-157 1306.5,-89 1496.5,-89 1496.5,-157\"/>\n",
       "<text text-anchor=\"middle\" x=\"1401.5\" y=\"-141.8\" font-family=\"Times,serif\" font-size=\"14.00\">chlorides &lt;= 0.047</text>\n",
       "<text text-anchor=\"middle\" x=\"1401.5\" y=\"-126.8\" font-family=\"Times,serif\" font-size=\"14.00\">gini = 0.626</text>\n",
       "<text text-anchor=\"middle\" x=\"1401.5\" y=\"-111.8\" font-family=\"Times,serif\" font-size=\"14.00\">samples = 248</text>\n",
       "<text text-anchor=\"middle\" x=\"1401.5\" y=\"-96.8\" font-family=\"Times,serif\" font-size=\"14.00\">value = [1, 3, 6, 85, 122, 29, 2]</text>\n",
       "</g>\n",
       "<!-- 8&#45;&gt;12 -->\n",
       "<g id=\"edge12\" class=\"edge\">\n",
       "<title>8&#45;&gt;12</title>\n",
       "<path fill=\"none\" stroke=\"black\" d=\"M1184.04,-192.88C1220.2,-181.43 1260.71,-168.6 1296.88,-157.14\"/>\n",
       "<polygon fill=\"black\" stroke=\"black\" points=\"1297.99,-160.46 1306.46,-154.11 1295.87,-153.79 1297.99,-160.46\"/>\n",
       "</g>\n",
       "<!-- 10 -->\n",
       "<g id=\"node11\" class=\"node\">\n",
       "<title>10</title>\n",
       "<polygon fill=\"none\" stroke=\"black\" points=\"1067,-53 884,-53 884,0 1067,0 1067,-53\"/>\n",
       "<text text-anchor=\"middle\" x=\"975.5\" y=\"-37.8\" font-family=\"Times,serif\" font-size=\"14.00\">gini = 0.725</text>\n",
       "<text text-anchor=\"middle\" x=\"975.5\" y=\"-22.8\" font-family=\"Times,serif\" font-size=\"14.00\">samples = 57</text>\n",
       "<text text-anchor=\"middle\" x=\"975.5\" y=\"-7.8\" font-family=\"Times,serif\" font-size=\"14.00\">value = [0, 16, 16, 19, 4, 2, 0]</text>\n",
       "</g>\n",
       "<!-- 9&#45;&gt;10 -->\n",
       "<g id=\"edge10\" class=\"edge\">\n",
       "<title>9&#45;&gt;10</title>\n",
       "<path fill=\"none\" stroke=\"black\" d=\"M1043.13,-88.95C1032.86,-79.62 1021.69,-69.47 1011.45,-60.16\"/>\n",
       "<polygon fill=\"black\" stroke=\"black\" points=\"1013.58,-57.37 1003.82,-53.24 1008.87,-62.55 1013.58,-57.37\"/>\n",
       "</g>\n",
       "<!-- 11 -->\n",
       "<g id=\"node12\" class=\"node\">\n",
       "<title>11</title>\n",
       "<polygon fill=\"none\" stroke=\"black\" points=\"1288,-53 1085,-53 1085,0 1288,0 1288,-53\"/>\n",
       "<text text-anchor=\"middle\" x=\"1186.5\" y=\"-37.8\" font-family=\"Times,serif\" font-size=\"14.00\">gini = 0.625</text>\n",
       "<text text-anchor=\"middle\" x=\"1186.5\" y=\"-22.8\" font-family=\"Times,serif\" font-size=\"14.00\">samples = 865</text>\n",
       "<text text-anchor=\"middle\" x=\"1186.5\" y=\"-7.8\" font-family=\"Times,serif\" font-size=\"14.00\">value = [5, 6, 81, 445, 270, 56, 2]</text>\n",
       "</g>\n",
       "<!-- 9&#45;&gt;11 -->\n",
       "<g id=\"edge11\" class=\"edge\">\n",
       "<title>9&#45;&gt;11</title>\n",
       "<path fill=\"none\" stroke=\"black\" d=\"M1116.92,-88.95C1127.59,-79.53 1139.2,-69.27 1149.82,-59.89\"/>\n",
       "<polygon fill=\"black\" stroke=\"black\" points=\"1152.18,-62.48 1157.36,-53.24 1147.55,-57.23 1152.18,-62.48\"/>\n",
       "</g>\n",
       "<!-- 13 -->\n",
       "<g id=\"node14\" class=\"node\">\n",
       "<title>13</title>\n",
       "<polygon fill=\"none\" stroke=\"black\" points=\"1496.5,-53 1306.5,-53 1306.5,0 1496.5,0 1496.5,-53\"/>\n",
       "<text text-anchor=\"middle\" x=\"1401.5\" y=\"-37.8\" font-family=\"Times,serif\" font-size=\"14.00\">gini = 0.611</text>\n",
       "<text text-anchor=\"middle\" x=\"1401.5\" y=\"-22.8\" font-family=\"Times,serif\" font-size=\"14.00\">samples = 235</text>\n",
       "<text text-anchor=\"middle\" x=\"1401.5\" y=\"-7.8\" font-family=\"Times,serif\" font-size=\"14.00\">value = [1, 3, 3, 76, 122, 28, 2]</text>\n",
       "</g>\n",
       "<!-- 12&#45;&gt;13 -->\n",
       "<g id=\"edge13\" class=\"edge\">\n",
       "<title>12&#45;&gt;13</title>\n",
       "<path fill=\"none\" stroke=\"black\" d=\"M1401.5,-88.95C1401.5,-80.72 1401.5,-71.85 1401.5,-63.48\"/>\n",
       "<polygon fill=\"black\" stroke=\"black\" points=\"1405,-63.24 1401.5,-53.24 1398,-63.24 1405,-63.24\"/>\n",
       "</g>\n",
       "<!-- 14 -->\n",
       "<g id=\"node15\" class=\"node\">\n",
       "<title>14</title>\n",
       "<polygon fill=\"none\" stroke=\"black\" points=\"1678,-53 1515,-53 1515,0 1678,0 1678,-53\"/>\n",
       "<text text-anchor=\"middle\" x=\"1596.5\" y=\"-37.8\" font-family=\"Times,serif\" font-size=\"14.00\">gini = 0.462</text>\n",
       "<text text-anchor=\"middle\" x=\"1596.5\" y=\"-22.8\" font-family=\"Times,serif\" font-size=\"14.00\">samples = 13</text>\n",
       "<text text-anchor=\"middle\" x=\"1596.5\" y=\"-7.8\" font-family=\"Times,serif\" font-size=\"14.00\">value = [0, 0, 3, 9, 0, 1, 0]</text>\n",
       "</g>\n",
       "<!-- 12&#45;&gt;14 -->\n",
       "<g id=\"edge14\" class=\"edge\">\n",
       "<title>12&#45;&gt;14</title>\n",
       "<path fill=\"none\" stroke=\"black\" d=\"M1469.7,-88.95C1490.84,-78.7 1514.01,-67.47 1534.7,-57.45\"/>\n",
       "<polygon fill=\"black\" stroke=\"black\" points=\"1536.23,-60.6 1543.7,-53.09 1533.18,-54.3 1536.23,-60.6\"/>\n",
       "</g>\n",
       "</g>\n",
       "</svg>\n"
      ],
      "text/plain": [
       "<graphviz.files.Source at 0x7fed68ac08b0>"
      ]
     },
     "execution_count": 236,
     "metadata": {},
     "output_type": "execute_result"
    }
   ],
   "source": [
    "graphviz.Source(tree_dot)"
   ]
  },
  {
   "cell_type": "markdown",
   "metadata": {},
   "source": [
    "# Tune Hyperparameter"
   ]
  },
  {
   "cell_type": "code",
   "execution_count": 237,
   "metadata": {},
   "outputs": [
    {
     "name": "stderr",
     "output_type": "stream",
     "text": [
      "/opt/anaconda3/lib/python3.8/site-packages/sklearn/model_selection/_split.py:670: UserWarning: The least populated class in y has only 5 members, which is less than n_splits=10.\n",
      "  warnings.warn((\"The least populated class in y has only %d\"\n"
     ]
    },
    {
     "data": {
      "text/plain": [
       "GridSearchCV(cv=10, estimator=DecisionTreeClassifier(random_state=0),\n",
       "             param_grid={'max_leaf_nodes': range(2, 20)},\n",
       "             return_train_score=True)"
      ]
     },
     "execution_count": 237,
     "metadata": {},
     "output_type": "execute_result"
    }
   ],
   "source": [
    "from sklearn.model_selection import GridSearchCV\n",
    "param_grid={'max_leaf_nodes': range(2,20)}\n",
    "grid = GridSearchCV(DecisionTreeClassifier(random_state=0), param_grid = param_grid, \n",
    "                    cv =10, return_train_score = True)\n",
    "\n",
    "grid.fit(X_train, y_train)"
   ]
  },
  {
   "cell_type": "code",
   "execution_count": 238,
   "metadata": {},
   "outputs": [],
   "source": [
    "best_tree = grid.best_estimator_ "
   ]
  },
  {
   "cell_type": "code",
   "execution_count": 239,
   "metadata": {},
   "outputs": [
    {
     "data": {
      "text/plain": [
       "'digraph Tree {\\nnode [shape=box] ;\\n0 [label=\"alcohol <= 10.917\\\\ngini = 0.674\\\\nsamples = 3428\\\\nvalue = [12, 121, 1026, 1548, 596, 120, 5]\"] ;\\n1 [label=\"volatile acidity <= 0.267\\\\ngini = 0.627\\\\nsamples = 2258\\\\nvalue = [6, 96, 923, 999, 200, 33, 1]\"] ;\\n0 -> 1 [labeldistance=2.5, labelangle=45, headlabel=\"True\"] ;\\n3 [label=\"gini = 0.614\\\\nsamples = 1186\\\\nvalue = [3, 19, 332, 635, 167, 30, 0]\"] ;\\n1 -> 3 ;\\n4 [label=\"alcohol <= 10.017\\\\ngini = 0.575\\\\nsamples = 1072\\\\nvalue = [3, 77, 591, 364, 33, 3, 1]\"] ;\\n1 -> 4 ;\\n5 [label=\"gini = 0.523\\\\nsamples = 771\\\\nvalue = [2, 48, 476, 234, 11, 0, 0]\"] ;\\n4 -> 5 ;\\n6 [label=\"gini = 0.653\\\\nsamples = 301\\\\nvalue = [1, 29, 115, 130, 22, 3, 1]\"] ;\\n4 -> 6 ;\\n2 [label=\"alcohol <= 12.55\\\\ngini = 0.651\\\\nsamples = 1170\\\\nvalue = [6, 25, 103, 549, 396, 87, 4]\"] ;\\n0 -> 2 [labeldistance=2.5, labelangle=-45, headlabel=\"False\"] ;\\n7 [label=\"gini = 0.643\\\\nsamples = 922\\\\nvalue = [5, 22, 97, 464, 274, 58, 2]\"] ;\\n2 -> 7 ;\\n8 [label=\"gini = 0.626\\\\nsamples = 248\\\\nvalue = [1, 3, 6, 85, 122, 29, 2]\"] ;\\n2 -> 8 ;\\n}'"
      ]
     },
     "execution_count": 239,
     "metadata": {},
     "output_type": "execute_result"
    }
   ],
   "source": [
    "best_tree_dot = export_graphviz(best_tree, out_file=None, feature_names=[\"fixed acidity\",\"volatile acidity\",\"citric acid\",\"residual sugar\",\"chlorides\",\"free sulfur dioxide\",\"total sulfur dioxide\",\"density\",\"pH\",\"sulphates\",\"alcohol\"])\n",
    "best_tree_dot"
   ]
  },
  {
   "cell_type": "code",
   "execution_count": 240,
   "metadata": {},
   "outputs": [
    {
     "data": {
      "image/svg+xml": [
       "<?xml version=\"1.0\" encoding=\"UTF-8\" standalone=\"no\"?>\n",
       "<!DOCTYPE svg PUBLIC \"-//W3C//DTD SVG 1.1//EN\"\n",
       " \"http://www.w3.org/Graphics/SVG/1.1/DTD/svg11.dtd\">\n",
       "<!-- Generated by graphviz version 2.47.1 (20210417.1919)\n",
       " -->\n",
       "<!-- Title: Tree Pages: 1 -->\n",
       "<svg width=\"888pt\" height=\"373pt\"\n",
       " viewBox=\"0.00 0.00 887.50 373.00\" xmlns=\"http://www.w3.org/2000/svg\" xmlns:xlink=\"http://www.w3.org/1999/xlink\">\n",
       "<g id=\"graph0\" class=\"graph\" transform=\"scale(1 1) rotate(0) translate(4 369)\">\n",
       "<title>Tree</title>\n",
       "<polygon fill=\"white\" stroke=\"transparent\" points=\"-4,4 -4,-369 883.5,-369 883.5,4 -4,4\"/>\n",
       "<!-- 0 -->\n",
       "<g id=\"node1\" class=\"node\">\n",
       "<title>0</title>\n",
       "<polygon fill=\"none\" stroke=\"black\" points=\"576,-365 325,-365 325,-297 576,-297 576,-365\"/>\n",
       "<text text-anchor=\"middle\" x=\"450.5\" y=\"-349.8\" font-family=\"Times,serif\" font-size=\"14.00\">alcohol &lt;= 10.917</text>\n",
       "<text text-anchor=\"middle\" x=\"450.5\" y=\"-334.8\" font-family=\"Times,serif\" font-size=\"14.00\">gini = 0.674</text>\n",
       "<text text-anchor=\"middle\" x=\"450.5\" y=\"-319.8\" font-family=\"Times,serif\" font-size=\"14.00\">samples = 3428</text>\n",
       "<text text-anchor=\"middle\" x=\"450.5\" y=\"-304.8\" font-family=\"Times,serif\" font-size=\"14.00\">value = [12, 121, 1026, 1548, 596, 120, 5]</text>\n",
       "</g>\n",
       "<!-- 1 -->\n",
       "<g id=\"node2\" class=\"node\">\n",
       "<title>1</title>\n",
       "<polygon fill=\"none\" stroke=\"black\" points=\"442,-261 225,-261 225,-193 442,-193 442,-261\"/>\n",
       "<text text-anchor=\"middle\" x=\"333.5\" y=\"-245.8\" font-family=\"Times,serif\" font-size=\"14.00\">volatile acidity &lt;= 0.267</text>\n",
       "<text text-anchor=\"middle\" x=\"333.5\" y=\"-230.8\" font-family=\"Times,serif\" font-size=\"14.00\">gini = 0.627</text>\n",
       "<text text-anchor=\"middle\" x=\"333.5\" y=\"-215.8\" font-family=\"Times,serif\" font-size=\"14.00\">samples = 2258</text>\n",
       "<text text-anchor=\"middle\" x=\"333.5\" y=\"-200.8\" font-family=\"Times,serif\" font-size=\"14.00\">value = [6, 96, 923, 999, 200, 33, 1]</text>\n",
       "</g>\n",
       "<!-- 0&#45;&gt;1 -->\n",
       "<g id=\"edge1\" class=\"edge\">\n",
       "<title>0&#45;&gt;1</title>\n",
       "<path fill=\"none\" stroke=\"black\" d=\"M412.51,-296.88C401.99,-287.71 390.45,-277.65 379.52,-268.12\"/>\n",
       "<polygon fill=\"black\" stroke=\"black\" points=\"381.53,-265.23 371.7,-261.3 376.93,-270.51 381.53,-265.23\"/>\n",
       "<text text-anchor=\"middle\" x=\"373.4\" y=\"-282.54\" font-family=\"Times,serif\" font-size=\"14.00\">True</text>\n",
       "</g>\n",
       "<!-- 2 -->\n",
       "<g id=\"node7\" class=\"node\">\n",
       "<title>2</title>\n",
       "<polygon fill=\"none\" stroke=\"black\" points=\"677,-261 460,-261 460,-193 677,-193 677,-261\"/>\n",
       "<text text-anchor=\"middle\" x=\"568.5\" y=\"-245.8\" font-family=\"Times,serif\" font-size=\"14.00\">alcohol &lt;= 12.55</text>\n",
       "<text text-anchor=\"middle\" x=\"568.5\" y=\"-230.8\" font-family=\"Times,serif\" font-size=\"14.00\">gini = 0.651</text>\n",
       "<text text-anchor=\"middle\" x=\"568.5\" y=\"-215.8\" font-family=\"Times,serif\" font-size=\"14.00\">samples = 1170</text>\n",
       "<text text-anchor=\"middle\" x=\"568.5\" y=\"-200.8\" font-family=\"Times,serif\" font-size=\"14.00\">value = [6, 25, 103, 549, 396, 87, 4]</text>\n",
       "</g>\n",
       "<!-- 0&#45;&gt;2 -->\n",
       "<g id=\"edge6\" class=\"edge\">\n",
       "<title>0&#45;&gt;2</title>\n",
       "<path fill=\"none\" stroke=\"black\" d=\"M488.81,-296.88C499.53,-287.62 511.29,-277.45 522.4,-267.85\"/>\n",
       "<polygon fill=\"black\" stroke=\"black\" points=\"524.7,-270.49 529.98,-261.3 520.12,-265.19 524.7,-270.49\"/>\n",
       "<text text-anchor=\"middle\" x=\"528.16\" y=\"-282.53\" font-family=\"Times,serif\" font-size=\"14.00\">False</text>\n",
       "</g>\n",
       "<!-- 3 -->\n",
       "<g id=\"node3\" class=\"node\">\n",
       "<title>3</title>\n",
       "<polygon fill=\"none\" stroke=\"black\" points=\"217,-149.5 0,-149.5 0,-96.5 217,-96.5 217,-149.5\"/>\n",
       "<text text-anchor=\"middle\" x=\"108.5\" y=\"-134.3\" font-family=\"Times,serif\" font-size=\"14.00\">gini = 0.614</text>\n",
       "<text text-anchor=\"middle\" x=\"108.5\" y=\"-119.3\" font-family=\"Times,serif\" font-size=\"14.00\">samples = 1186</text>\n",
       "<text text-anchor=\"middle\" x=\"108.5\" y=\"-104.3\" font-family=\"Times,serif\" font-size=\"14.00\">value = [3, 19, 332, 635, 167, 30, 0]</text>\n",
       "</g>\n",
       "<!-- 1&#45;&gt;3 -->\n",
       "<g id=\"edge2\" class=\"edge\">\n",
       "<title>1&#45;&gt;3</title>\n",
       "<path fill=\"none\" stroke=\"black\" d=\"M260.45,-192.88C232.67,-180.29 201.22,-166.03 174.17,-153.77\"/>\n",
       "<polygon fill=\"black\" stroke=\"black\" points=\"175.35,-150.46 164.79,-149.52 172.46,-156.84 175.35,-150.46\"/>\n",
       "</g>\n",
       "<!-- 4 -->\n",
       "<g id=\"node4\" class=\"node\">\n",
       "<title>4</title>\n",
       "<polygon fill=\"none\" stroke=\"black\" points=\"438,-157 235,-157 235,-89 438,-89 438,-157\"/>\n",
       "<text text-anchor=\"middle\" x=\"336.5\" y=\"-141.8\" font-family=\"Times,serif\" font-size=\"14.00\">alcohol &lt;= 10.017</text>\n",
       "<text text-anchor=\"middle\" x=\"336.5\" y=\"-126.8\" font-family=\"Times,serif\" font-size=\"14.00\">gini = 0.575</text>\n",
       "<text text-anchor=\"middle\" x=\"336.5\" y=\"-111.8\" font-family=\"Times,serif\" font-size=\"14.00\">samples = 1072</text>\n",
       "<text text-anchor=\"middle\" x=\"336.5\" y=\"-96.8\" font-family=\"Times,serif\" font-size=\"14.00\">value = [3, 77, 591, 364, 33, 3, 1]</text>\n",
       "</g>\n",
       "<!-- 1&#45;&gt;4 -->\n",
       "<g id=\"edge3\" class=\"edge\">\n",
       "<title>1&#45;&gt;4</title>\n",
       "<path fill=\"none\" stroke=\"black\" d=\"M334.47,-192.88C334.71,-184.78 334.97,-175.98 335.22,-167.47\"/>\n",
       "<polygon fill=\"black\" stroke=\"black\" points=\"338.73,-167.4 335.52,-157.3 331.73,-167.19 338.73,-167.4\"/>\n",
       "</g>\n",
       "<!-- 5 -->\n",
       "<g id=\"node5\" class=\"node\">\n",
       "<title>5</title>\n",
       "<polygon fill=\"none\" stroke=\"black\" points=\"328,-53 125,-53 125,0 328,0 328,-53\"/>\n",
       "<text text-anchor=\"middle\" x=\"226.5\" y=\"-37.8\" font-family=\"Times,serif\" font-size=\"14.00\">gini = 0.523</text>\n",
       "<text text-anchor=\"middle\" x=\"226.5\" y=\"-22.8\" font-family=\"Times,serif\" font-size=\"14.00\">samples = 771</text>\n",
       "<text text-anchor=\"middle\" x=\"226.5\" y=\"-7.8\" font-family=\"Times,serif\" font-size=\"14.00\">value = [2, 48, 476, 234, 11, 0, 0]</text>\n",
       "</g>\n",
       "<!-- 4&#45;&gt;5 -->\n",
       "<g id=\"edge4\" class=\"edge\">\n",
       "<title>4&#45;&gt;5</title>\n",
       "<path fill=\"none\" stroke=\"black\" d=\"M298.03,-88.95C287.06,-79.53 275.12,-69.27 264.2,-59.89\"/>\n",
       "<polygon fill=\"black\" stroke=\"black\" points=\"266.32,-57.1 256.46,-53.24 261.76,-62.41 266.32,-57.1\"/>\n",
       "</g>\n",
       "<!-- 6 -->\n",
       "<g id=\"node6\" class=\"node\">\n",
       "<title>6</title>\n",
       "<polygon fill=\"none\" stroke=\"black\" points=\"549,-53 346,-53 346,0 549,0 549,-53\"/>\n",
       "<text text-anchor=\"middle\" x=\"447.5\" y=\"-37.8\" font-family=\"Times,serif\" font-size=\"14.00\">gini = 0.653</text>\n",
       "<text text-anchor=\"middle\" x=\"447.5\" y=\"-22.8\" font-family=\"Times,serif\" font-size=\"14.00\">samples = 301</text>\n",
       "<text text-anchor=\"middle\" x=\"447.5\" y=\"-7.8\" font-family=\"Times,serif\" font-size=\"14.00\">value = [1, 29, 115, 130, 22, 3, 1]</text>\n",
       "</g>\n",
       "<!-- 4&#45;&gt;6 -->\n",
       "<g id=\"edge5\" class=\"edge\">\n",
       "<title>4&#45;&gt;6</title>\n",
       "<path fill=\"none\" stroke=\"black\" d=\"M375.32,-88.95C386.39,-79.53 398.43,-69.27 409.45,-59.89\"/>\n",
       "<polygon fill=\"black\" stroke=\"black\" points=\"411.92,-62.38 417.27,-53.24 407.39,-57.05 411.92,-62.38\"/>\n",
       "</g>\n",
       "<!-- 7 -->\n",
       "<g id=\"node8\" class=\"node\">\n",
       "<title>7</title>\n",
       "<polygon fill=\"none\" stroke=\"black\" points=\"671.5,-149.5 461.5,-149.5 461.5,-96.5 671.5,-96.5 671.5,-149.5\"/>\n",
       "<text text-anchor=\"middle\" x=\"566.5\" y=\"-134.3\" font-family=\"Times,serif\" font-size=\"14.00\">gini = 0.643</text>\n",
       "<text text-anchor=\"middle\" x=\"566.5\" y=\"-119.3\" font-family=\"Times,serif\" font-size=\"14.00\">samples = 922</text>\n",
       "<text text-anchor=\"middle\" x=\"566.5\" y=\"-104.3\" font-family=\"Times,serif\" font-size=\"14.00\">value = [5, 22, 97, 464, 274, 58, 2]</text>\n",
       "</g>\n",
       "<!-- 2&#45;&gt;7 -->\n",
       "<g id=\"edge7\" class=\"edge\">\n",
       "<title>2&#45;&gt;7</title>\n",
       "<path fill=\"none\" stroke=\"black\" d=\"M567.85,-192.88C567.64,-182.22 567.41,-170.35 567.2,-159.52\"/>\n",
       "<polygon fill=\"black\" stroke=\"black\" points=\"570.7,-159.45 567,-149.52 563.7,-159.59 570.7,-159.45\"/>\n",
       "</g>\n",
       "<!-- 8 -->\n",
       "<g id=\"node9\" class=\"node\">\n",
       "<title>8</title>\n",
       "<polygon fill=\"none\" stroke=\"black\" points=\"879.5,-149.5 689.5,-149.5 689.5,-96.5 879.5,-96.5 879.5,-149.5\"/>\n",
       "<text text-anchor=\"middle\" x=\"784.5\" y=\"-134.3\" font-family=\"Times,serif\" font-size=\"14.00\">gini = 0.626</text>\n",
       "<text text-anchor=\"middle\" x=\"784.5\" y=\"-119.3\" font-family=\"Times,serif\" font-size=\"14.00\">samples = 248</text>\n",
       "<text text-anchor=\"middle\" x=\"784.5\" y=\"-104.3\" font-family=\"Times,serif\" font-size=\"14.00\">value = [1, 3, 6, 85, 122, 29, 2]</text>\n",
       "</g>\n",
       "<!-- 2&#45;&gt;8 -->\n",
       "<g id=\"edge8\" class=\"edge\">\n",
       "<title>2&#45;&gt;8</title>\n",
       "<path fill=\"none\" stroke=\"black\" d=\"M638.63,-192.88C665.18,-180.35 695.23,-166.16 721.12,-153.93\"/>\n",
       "<polygon fill=\"black\" stroke=\"black\" points=\"722.91,-156.95 730.46,-149.52 719.92,-150.63 722.91,-156.95\"/>\n",
       "</g>\n",
       "</g>\n",
       "</svg>\n"
      ],
      "text/plain": [
       "<graphviz.files.Source at 0x7fed688cba00>"
      ]
     },
     "execution_count": 240,
     "metadata": {},
     "output_type": "execute_result"
    }
   ],
   "source": [
    "graphviz.Source(best_tree_dot)"
   ]
  },
  {
   "cell_type": "code",
   "execution_count": 241,
   "metadata": {},
   "outputs": [
    {
     "data": {
      "text/plain": [
       "0.5149659863945578"
      ]
     },
     "execution_count": 241,
     "metadata": {},
     "output_type": "execute_result"
    }
   ],
   "source": [
    "grid.score(X_test,y_test)"
   ]
  },
  {
   "cell_type": "code",
   "execution_count": null,
   "metadata": {},
   "outputs": [],
   "source": []
  },
  {
   "cell_type": "code",
   "execution_count": 246,
   "metadata": {},
   "outputs": [],
   "source": [
    "from sklearn.model_selection import train_test_split\n",
    "y= red.quality \n",
    "X =red.drop('quality',axis=1)\n",
    "\n",
    "X_train, X_test, y_train, y_test = train_test_split(X, y,test_size=0.3)"
   ]
  },
  {
   "cell_type": "code",
   "execution_count": 247,
   "metadata": {},
   "outputs": [
    {
     "name": "stderr",
     "output_type": "stream",
     "text": [
      "/opt/anaconda3/lib/python3.8/site-packages/sklearn/utils/validation.py:67: FutureWarning: Pass copy=      fixed acidity  volatile acidity  citric acid  residual sugar  chlorides  \\\n",
      "1143            7.0             0.220         0.30             1.8      0.065   \n",
      "1001            9.9             0.350         0.38             1.5      0.058   \n",
      "517            10.4             0.610         0.49             2.1      0.200   \n",
      "275             7.9             0.545         0.06             4.0      0.087   \n",
      "1134            8.5             0.280         0.35             1.7      0.061   \n",
      "...             ...               ...          ...             ...        ...   \n",
      "649             6.7             0.420         0.27             8.6      0.068   \n",
      "842            10.6             0.500         0.45             2.6      0.119   \n",
      "802             5.1             0.585         0.00             1.7      0.044   \n",
      "960             8.5             0.470         0.27             1.9      0.058   \n",
      "533            10.3             0.270         0.24             2.1      0.072   \n",
      "\n",
      "      free sulfur dioxide  total sulfur dioxide  density    pH  sulphates  \\\n",
      "1143                 16.0                  20.0  0.99672  3.61       0.82   \n",
      "1001                 31.0                  47.0  0.99676  3.26       0.82   \n",
      "517                   5.0                  16.0  0.99940  3.16       0.63   \n",
      "275                  27.0                  61.0  0.99650  3.36       0.67   \n",
      "1134                  6.0                  15.0  0.99524  3.30       0.74   \n",
      "...                   ...                   ...      ...   ...        ...   \n",
      "649                  24.0                 148.0  0.99480  3.16       0.57   \n",
      "842                  34.0                  68.0  0.99708  3.23       0.72   \n",
      "802                  14.0                  86.0  0.99264  3.56       0.94   \n",
      "960                  18.0                  38.0  0.99518  3.16       0.85   \n",
      "533                  15.0                  33.0  0.99560  3.22       0.66   \n",
      "\n",
      "      alcohol  \n",
      "1143     10.0  \n",
      "1001     10.6  \n",
      "517       8.4  \n",
      "275      10.7  \n",
      "1134     11.8  \n",
      "...       ...  \n",
      "649      11.3  \n",
      "842      10.9  \n",
      "802      12.9  \n",
      "960      11.1  \n",
      "533      12.8  \n",
      "\n",
      "[1119 rows x 11 columns] as keyword args. From version 0.25 passing these as positional arguments will result in an error\n",
      "  warnings.warn(\"Pass {} as keyword args. From version 0.25 \"\n"
     ]
    },
    {
     "data": {
      "text/html": [
       "<div>\n",
       "<style scoped>\n",
       "    .dataframe tbody tr th:only-of-type {\n",
       "        vertical-align: middle;\n",
       "    }\n",
       "\n",
       "    .dataframe tbody tr th {\n",
       "        vertical-align: top;\n",
       "    }\n",
       "\n",
       "    .dataframe thead th {\n",
       "        text-align: right;\n",
       "    }\n",
       "</style>\n",
       "<table border=\"1\" class=\"dataframe\">\n",
       "  <thead>\n",
       "    <tr style=\"text-align: right;\">\n",
       "      <th></th>\n",
       "      <th>fixed acidity</th>\n",
       "      <th>volatile acidity</th>\n",
       "      <th>citric acid</th>\n",
       "      <th>residual sugar</th>\n",
       "      <th>chlorides</th>\n",
       "      <th>free sulfur dioxide</th>\n",
       "      <th>total sulfur dioxide</th>\n",
       "      <th>density</th>\n",
       "      <th>pH</th>\n",
       "      <th>sulphates</th>\n",
       "      <th>alcohol</th>\n",
       "    </tr>\n",
       "  </thead>\n",
       "  <tbody>\n",
       "    <tr>\n",
       "      <th>1143</th>\n",
       "      <td>7.0</td>\n",
       "      <td>0.220</td>\n",
       "      <td>0.30</td>\n",
       "      <td>1.8</td>\n",
       "      <td>0.065</td>\n",
       "      <td>16.0</td>\n",
       "      <td>20.0</td>\n",
       "      <td>0.99672</td>\n",
       "      <td>3.61</td>\n",
       "      <td>0.82</td>\n",
       "      <td>10.0</td>\n",
       "    </tr>\n",
       "    <tr>\n",
       "      <th>1001</th>\n",
       "      <td>9.9</td>\n",
       "      <td>0.350</td>\n",
       "      <td>0.38</td>\n",
       "      <td>1.5</td>\n",
       "      <td>0.058</td>\n",
       "      <td>31.0</td>\n",
       "      <td>47.0</td>\n",
       "      <td>0.99676</td>\n",
       "      <td>3.26</td>\n",
       "      <td>0.82</td>\n",
       "      <td>10.6</td>\n",
       "    </tr>\n",
       "    <tr>\n",
       "      <th>517</th>\n",
       "      <td>10.4</td>\n",
       "      <td>0.610</td>\n",
       "      <td>0.49</td>\n",
       "      <td>2.1</td>\n",
       "      <td>0.200</td>\n",
       "      <td>5.0</td>\n",
       "      <td>16.0</td>\n",
       "      <td>0.99940</td>\n",
       "      <td>3.16</td>\n",
       "      <td>0.63</td>\n",
       "      <td>8.4</td>\n",
       "    </tr>\n",
       "    <tr>\n",
       "      <th>275</th>\n",
       "      <td>7.9</td>\n",
       "      <td>0.545</td>\n",
       "      <td>0.06</td>\n",
       "      <td>4.0</td>\n",
       "      <td>0.087</td>\n",
       "      <td>27.0</td>\n",
       "      <td>61.0</td>\n",
       "      <td>0.99650</td>\n",
       "      <td>3.36</td>\n",
       "      <td>0.67</td>\n",
       "      <td>10.7</td>\n",
       "    </tr>\n",
       "    <tr>\n",
       "      <th>1134</th>\n",
       "      <td>8.5</td>\n",
       "      <td>0.280</td>\n",
       "      <td>0.35</td>\n",
       "      <td>1.7</td>\n",
       "      <td>0.061</td>\n",
       "      <td>6.0</td>\n",
       "      <td>15.0</td>\n",
       "      <td>0.99524</td>\n",
       "      <td>3.30</td>\n",
       "      <td>0.74</td>\n",
       "      <td>11.8</td>\n",
       "    </tr>\n",
       "    <tr>\n",
       "      <th>...</th>\n",
       "      <td>...</td>\n",
       "      <td>...</td>\n",
       "      <td>...</td>\n",
       "      <td>...</td>\n",
       "      <td>...</td>\n",
       "      <td>...</td>\n",
       "      <td>...</td>\n",
       "      <td>...</td>\n",
       "      <td>...</td>\n",
       "      <td>...</td>\n",
       "      <td>...</td>\n",
       "    </tr>\n",
       "    <tr>\n",
       "      <th>649</th>\n",
       "      <td>6.7</td>\n",
       "      <td>0.420</td>\n",
       "      <td>0.27</td>\n",
       "      <td>8.6</td>\n",
       "      <td>0.068</td>\n",
       "      <td>24.0</td>\n",
       "      <td>148.0</td>\n",
       "      <td>0.99480</td>\n",
       "      <td>3.16</td>\n",
       "      <td>0.57</td>\n",
       "      <td>11.3</td>\n",
       "    </tr>\n",
       "    <tr>\n",
       "      <th>842</th>\n",
       "      <td>10.6</td>\n",
       "      <td>0.500</td>\n",
       "      <td>0.45</td>\n",
       "      <td>2.6</td>\n",
       "      <td>0.119</td>\n",
       "      <td>34.0</td>\n",
       "      <td>68.0</td>\n",
       "      <td>0.99708</td>\n",
       "      <td>3.23</td>\n",
       "      <td>0.72</td>\n",
       "      <td>10.9</td>\n",
       "    </tr>\n",
       "    <tr>\n",
       "      <th>802</th>\n",
       "      <td>5.1</td>\n",
       "      <td>0.585</td>\n",
       "      <td>0.00</td>\n",
       "      <td>1.7</td>\n",
       "      <td>0.044</td>\n",
       "      <td>14.0</td>\n",
       "      <td>86.0</td>\n",
       "      <td>0.99264</td>\n",
       "      <td>3.56</td>\n",
       "      <td>0.94</td>\n",
       "      <td>12.9</td>\n",
       "    </tr>\n",
       "    <tr>\n",
       "      <th>960</th>\n",
       "      <td>8.5</td>\n",
       "      <td>0.470</td>\n",
       "      <td>0.27</td>\n",
       "      <td>1.9</td>\n",
       "      <td>0.058</td>\n",
       "      <td>18.0</td>\n",
       "      <td>38.0</td>\n",
       "      <td>0.99518</td>\n",
       "      <td>3.16</td>\n",
       "      <td>0.85</td>\n",
       "      <td>11.1</td>\n",
       "    </tr>\n",
       "    <tr>\n",
       "      <th>533</th>\n",
       "      <td>10.3</td>\n",
       "      <td>0.270</td>\n",
       "      <td>0.24</td>\n",
       "      <td>2.1</td>\n",
       "      <td>0.072</td>\n",
       "      <td>15.0</td>\n",
       "      <td>33.0</td>\n",
       "      <td>0.99560</td>\n",
       "      <td>3.22</td>\n",
       "      <td>0.66</td>\n",
       "      <td>12.8</td>\n",
       "    </tr>\n",
       "  </tbody>\n",
       "</table>\n",
       "<p>1119 rows × 11 columns</p>\n",
       "</div>"
      ],
      "text/plain": [
       "      fixed acidity  volatile acidity  citric acid  residual sugar  chlorides  \\\n",
       "1143            7.0             0.220         0.30             1.8      0.065   \n",
       "1001            9.9             0.350         0.38             1.5      0.058   \n",
       "517            10.4             0.610         0.49             2.1      0.200   \n",
       "275             7.9             0.545         0.06             4.0      0.087   \n",
       "1134            8.5             0.280         0.35             1.7      0.061   \n",
       "...             ...               ...          ...             ...        ...   \n",
       "649             6.7             0.420         0.27             8.6      0.068   \n",
       "842            10.6             0.500         0.45             2.6      0.119   \n",
       "802             5.1             0.585         0.00             1.7      0.044   \n",
       "960             8.5             0.470         0.27             1.9      0.058   \n",
       "533            10.3             0.270         0.24             2.1      0.072   \n",
       "\n",
       "      free sulfur dioxide  total sulfur dioxide  density    pH  sulphates  \\\n",
       "1143                 16.0                  20.0  0.99672  3.61       0.82   \n",
       "1001                 31.0                  47.0  0.99676  3.26       0.82   \n",
       "517                   5.0                  16.0  0.99940  3.16       0.63   \n",
       "275                  27.0                  61.0  0.99650  3.36       0.67   \n",
       "1134                  6.0                  15.0  0.99524  3.30       0.74   \n",
       "...                   ...                   ...      ...   ...        ...   \n",
       "649                  24.0                 148.0  0.99480  3.16       0.57   \n",
       "842                  34.0                  68.0  0.99708  3.23       0.72   \n",
       "802                  14.0                  86.0  0.99264  3.56       0.94   \n",
       "960                  18.0                  38.0  0.99518  3.16       0.85   \n",
       "533                  15.0                  33.0  0.99560  3.22       0.66   \n",
       "\n",
       "      alcohol  \n",
       "1143     10.0  \n",
       "1001     10.6  \n",
       "517       8.4  \n",
       "275      10.7  \n",
       "1134     11.8  \n",
       "...       ...  \n",
       "649      11.3  \n",
       "842      10.9  \n",
       "802      12.9  \n",
       "960      11.1  \n",
       "533      12.8  \n",
       "\n",
       "[1119 rows x 11 columns]"
      ]
     },
     "metadata": {},
     "output_type": "display_data"
    }
   ],
   "source": [
    "from sklearn import preprocessing\n",
    "X_train_scaled = preprocessing.scale(X_train)\n",
    "X_train_stdscaled= preprocessing.StandardScaler(X_train)\n",
    "display(X_train)"
   ]
  },
  {
   "cell_type": "code",
   "execution_count": null,
   "metadata": {},
   "outputs": [],
   "source": []
  },
  {
   "cell_type": "code",
   "execution_count": 248,
   "metadata": {},
   "outputs": [],
   "source": [
    "from sklearn.tree import DecisionTreeClassifier\n",
    "wine_tree = DecisionTreeClassifier()\n",
    "wine_tree.fit(X_train,y_train)\n",
    "y_pred_tree = wine_tree.predict(X_test)"
   ]
  },
  {
   "cell_type": "code",
   "execution_count": 255,
   "metadata": {},
   "outputs": [
    {
     "name": "stdout",
     "output_type": "stream",
     "text": [
      "0.625\n"
     ]
    }
   ],
   "source": [
    "from sklearn import metrics\n",
    "print(metrics.accuracy_score(y_test,y_pred_tree))\n"
   ]
  },
  {
   "cell_type": "code",
   "execution_count": 254,
   "metadata": {},
   "outputs": [
    {
     "name": "stdout",
     "output_type": "stream",
     "text": [
      "              precision    recall  f1-score   support\n",
      "\n",
      "           3       0.00      0.00      0.00         4\n",
      "           4       0.00      0.00      0.00        13\n",
      "           5       0.71      0.69      0.70       208\n",
      "           6       0.58      0.66      0.62       186\n",
      "           7       0.61      0.48      0.54        64\n",
      "           8       0.67      0.40      0.50         5\n",
      "\n",
      "    accuracy                           0.62       480\n",
      "   macro avg       0.43      0.37      0.39       480\n",
      "weighted avg       0.62      0.62      0.62       480\n",
      "\n"
     ]
    }
   ],
   "source": [
    "from sklearn.metrics import classification_report\n",
    "print(classification_report(y_test, y_pred_tree))\n",
    "#print(classification_report(y_test, y_pred))"
   ]
  },
  {
   "cell_type": "code",
   "execution_count": null,
   "metadata": {},
   "outputs": [],
   "source": []
  }
 ],
 "metadata": {
  "kernelspec": {
   "display_name": "Python 3",
   "language": "python",
   "name": "python3"
  },
  "language_info": {
   "codemirror_mode": {
    "name": "ipython",
    "version": 3
   },
   "file_extension": ".py",
   "mimetype": "text/x-python",
   "name": "python",
   "nbconvert_exporter": "python",
   "pygments_lexer": "ipython3",
   "version": "3.8.5"
  }
 },
 "nbformat": 4,
 "nbformat_minor": 4
}
